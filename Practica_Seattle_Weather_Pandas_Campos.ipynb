{
  "cells": [
    {
      "cell_type": "markdown",
      "id": "6950b622",
      "metadata": {},
      "source": [
        "# Ejercicio en clase: ETL del clima de Seattle + Postgres (Pandas)\n",
        "\n",
        "## Objetivo\n",
        "Construir un pequeño programa: **ingesta → limpieza → enriquecimiento → agregaciones → persistencia en Postgres**.\n",
        "\n",
        "- Usar **Pandas** para todas las transformaciones.\n",
        "- Usar **SQLAlchemy** o **Psycopg2** para la persistencia\n",
        "- Usar **Postgres** en una instancia Docker local.\n",
        "\n",
        "**NOTA**: Todas las cosas que aquí se os piden son **mínimas**. Podéis (y debéis) ir más allá si queréis. Además, podeis usar vustro criterio no solo para definir como implementar cada paso, sino para proponer mejoras o pasos adicionales o directamente cambiarlos o no hacerlos. Todo esto, eso sí, debe quedar documentado en el README y debidamente justificado.\n",
        "\n",
        "## Dataset\n",
        "- URL: `https://cdn.jsdelivr.net/npm/vega-datasets@3.2.1/data/seattle-weather.csv`\n",
        "- Columnas esperadas: `date, precipitation, temp_max, temp_min, wind, weather`.\n",
        "- Unidades métricas: temperatura (°C), precipitación (mm), viento (m/s).\n",
        "- Periodo aproximado: 2012–2015.\n",
        "\n",
        "## Entregables\n",
        "1) Un notebook con todos los pasos (en **Pandas**).\n",
        "2) Tablas en Postgres (en vuestra instancia Docker local):\n",
        "   - `seattle_weather_raw`\n",
        "   - `seattle_weather_clean`\n",
        "   - Agregadas: `sw_agg_by_year`, `sw_agg_by_month`, `sw_agg_by_weather`\n",
        "3) Un README breve explicando supuestos y decisiones.\n",
        "\n",
        "\n",
        "## Tareas\n",
        "\n",
        "### 1) Lectura del dataset (ingesta)\n",
        "- Lee el CSV **directamente desde la URL**.\n",
        "- Asegura tipos correctos:\n",
        "  - `date` → fecha\n",
        "  - `precipitation`, `temp_max`, `temp_min`, `wind` → numéricos\n",
        "  - `weather` → string en minúsculas\n",
        "- Guarda **sin tocar** en Postgres como `seattle_weather_raw`.\n",
        "\n",
        "### 2) Limpieza (tareas concretas)\n",
        "Aplica y documenta estas reglas:\n",
        "- **Duplicados**: elimina duplicados por `date`.\n",
        "- **Valores inválidos**:\n",
        "  - `precipitation < 0` → fija a 0.\n",
        "  - `wind < 0` → fija a `NULL` o 0 (justifica).\n",
        "  - Si `temp_min > temp_max` → **intercámbialas** (swap).\n",
        "- **Normalización categórica**:\n",
        "  - `weather`: trim + minúsculas; normaliza variantes a un conjunto acotado (p.ej., `['sun', 'rain', 'drizzle', 'snow', 'fog']`).\n",
        "\n",
        "Guarda el resultado como `seattle_weather_clean`.\n",
        "\n",
        "### 3) Nuevas variables (enriquecimiento)\n",
        "Crea, al menos, estas columnas:\n",
        "- `year` (año), `month` (1–12), `dow` (día de la semana en texto).\n",
        "- `season` (invierno: 12–2, primavera: 3–5, verano: 6–8, otoño: 9–11).\n",
        "- `temp_range = temp_max - temp_min`.\n",
        "- `temp_mean = (temp_max + temp_min) / 2`.\n",
        "- `is_wet_day = precipitation > 0`.\n",
        "\n",
        "### 4) Tablas agrupadas (3 tablas)\n",
        "Genera **tres** dataframes agregados con **groupby + agregados simples** y persístelos:\n",
        "\n",
        "1. `sw_agg_by_year` (por `year`)\n",
        "   - `days = count(*)`\n",
        "   - `avg_temp_mean`, `max_temp_max`, `min_temp_min`\n",
        "   - `total_precip = sum(precipitation)`\n",
        "   - `wet_days = sum(is_wet_day)`\n",
        "\n",
        "2. `sw_agg_by_month` (por `month`, acumulando todos los años)\n",
        "   - `days`, `avg_temp_mean`, `total_precip`, `wet_days`\n",
        "\n",
        "3. `sw_agg_by_weather` (por `weather`)\n",
        "   - `days`, `avg_precip`, `avg_wind`, `avg_temp_mean`\n",
        "\n",
        "> Nota: si quieres, añade un cuarto agregado `year, season` (opcional).\n",
        "\n",
        "### 5) Persistencia en Postgres\n",
        "- Escribe **cada dataframe** en su tabla homónima.  \n",
        "- Modo recomendado: `overwrite` (para que sea re-ejecutable).  \n",
        "- Nombres de columnas en snake_case.\n",
        "\n",
        "\n",
        "## Preguntas a responder (en el notebook). \n",
        "1) ¿Cuántos días distintos hay en `seattle_weather_raw` y cuál es el **rango de fechas** cubierto?  \n",
        "2) Según `sw_agg_by_month`, ¿**qué mes** concentra mayor **precipitación total**?  \n",
        "3) Según `sw_agg_by_year`, ¿en qué **año** hubo mayor **temperatura media** (`temp_mean`)?  \n",
        "4) ¿Qué categoría de `weather` tiene **más días** y cuál es su **precipitación media**? (usa `sw_agg_by_weather`)  \n",
        "5) ¿En qué **estación** `season` aparecen más `wet_days` y cuántos son?\n"
      ]
    },
    {
      "cell_type": "markdown",
      "id": "da6f0ea1",
      "metadata": {},
      "source": [
        "---"
      ]
    },
    {
      "cell_type": "markdown",
      "id": "2291c2cb",
      "metadata": {},
      "source": [
        "### 1) Lectura del dataset + configuración previa"
      ]
    },
    {
      "cell_type": "code",
      "execution_count": 1,
      "id": "883cb245",
      "metadata": {},
      "outputs": [],
      "source": [
        "import pandas as pd\n",
        "from sqlalchemy import create_engine\n"
      ]
    },
    {
      "cell_type": "code",
      "execution_count": 2,
      "id": "1b5c74a4",
      "metadata": {},
      "outputs": [],
      "source": [
        "#Conexión a la base de datos Postgres\n",
        "pg_user = \"postgres\"\n",
        "pg_password = \"mysecretpassword\"\n",
        "pg_host = \"localhost\"\n",
        "pg_port = 5432\n",
        "pg_db = \"postgres\"\n",
        "\n",
        "churro = f\"postgresql://{pg_user}:{pg_password}@{pg_host}:{pg_port}/{pg_db}\"\n",
        "engine = create_engine(churro)"
      ]
    },
    {
      "cell_type": "code",
      "execution_count": 3,
      "id": "c56cf2e6",
      "metadata": {},
      "outputs": [
        {
          "data": {
            "application/vnd.microsoft.datawrangler.viewer.v0+json": {
              "columns": [
                {
                  "name": "index",
                  "rawType": "int64",
                  "type": "integer"
                },
                {
                  "name": "date",
                  "rawType": "object",
                  "type": "string"
                },
                {
                  "name": "precipitation",
                  "rawType": "float64",
                  "type": "float"
                },
                {
                  "name": "temp_max",
                  "rawType": "float64",
                  "type": "float"
                },
                {
                  "name": "temp_min",
                  "rawType": "float64",
                  "type": "float"
                },
                {
                  "name": "wind",
                  "rawType": "float64",
                  "type": "float"
                },
                {
                  "name": "weather",
                  "rawType": "object",
                  "type": "string"
                }
              ],
              "ref": "f3601ccc-9f65-498d-88dc-2fb050e5c0c3",
              "rows": [
                [
                  "0",
                  "2012-01-01",
                  "0.0",
                  "12.8",
                  "5.0",
                  "4.7",
                  "drizzle"
                ],
                [
                  "1",
                  "2012-01-02",
                  "10.9",
                  "10.6",
                  "2.8",
                  "4.5",
                  "rain"
                ],
                [
                  "2",
                  "2012-01-03",
                  "0.8",
                  "11.7",
                  "7.2",
                  "2.3",
                  "rain"
                ],
                [
                  "3",
                  "2012-01-04",
                  "20.3",
                  "12.2",
                  "5.6",
                  "4.7",
                  "rain"
                ],
                [
                  "4",
                  "2012-01-05",
                  "1.3",
                  "8.9",
                  "2.8",
                  "6.1",
                  "rain"
                ]
              ],
              "shape": {
                "columns": 6,
                "rows": 5
              }
            },
            "text/html": [
              "<div>\n",
              "<style scoped>\n",
              "    .dataframe tbody tr th:only-of-type {\n",
              "        vertical-align: middle;\n",
              "    }\n",
              "\n",
              "    .dataframe tbody tr th {\n",
              "        vertical-align: top;\n",
              "    }\n",
              "\n",
              "    .dataframe thead th {\n",
              "        text-align: right;\n",
              "    }\n",
              "</style>\n",
              "<table border=\"1\" class=\"dataframe\">\n",
              "  <thead>\n",
              "    <tr style=\"text-align: right;\">\n",
              "      <th></th>\n",
              "      <th>date</th>\n",
              "      <th>precipitation</th>\n",
              "      <th>temp_max</th>\n",
              "      <th>temp_min</th>\n",
              "      <th>wind</th>\n",
              "      <th>weather</th>\n",
              "    </tr>\n",
              "  </thead>\n",
              "  <tbody>\n",
              "    <tr>\n",
              "      <th>0</th>\n",
              "      <td>2012-01-01</td>\n",
              "      <td>0.0</td>\n",
              "      <td>12.8</td>\n",
              "      <td>5.0</td>\n",
              "      <td>4.7</td>\n",
              "      <td>drizzle</td>\n",
              "    </tr>\n",
              "    <tr>\n",
              "      <th>1</th>\n",
              "      <td>2012-01-02</td>\n",
              "      <td>10.9</td>\n",
              "      <td>10.6</td>\n",
              "      <td>2.8</td>\n",
              "      <td>4.5</td>\n",
              "      <td>rain</td>\n",
              "    </tr>\n",
              "    <tr>\n",
              "      <th>2</th>\n",
              "      <td>2012-01-03</td>\n",
              "      <td>0.8</td>\n",
              "      <td>11.7</td>\n",
              "      <td>7.2</td>\n",
              "      <td>2.3</td>\n",
              "      <td>rain</td>\n",
              "    </tr>\n",
              "    <tr>\n",
              "      <th>3</th>\n",
              "      <td>2012-01-04</td>\n",
              "      <td>20.3</td>\n",
              "      <td>12.2</td>\n",
              "      <td>5.6</td>\n",
              "      <td>4.7</td>\n",
              "      <td>rain</td>\n",
              "    </tr>\n",
              "    <tr>\n",
              "      <th>4</th>\n",
              "      <td>2012-01-05</td>\n",
              "      <td>1.3</td>\n",
              "      <td>8.9</td>\n",
              "      <td>2.8</td>\n",
              "      <td>6.1</td>\n",
              "      <td>rain</td>\n",
              "    </tr>\n",
              "  </tbody>\n",
              "</table>\n",
              "</div>"
            ],
            "text/plain": [
              "         date  precipitation  temp_max  temp_min  wind  weather\n",
              "0  2012-01-01            0.0      12.8       5.0   4.7  drizzle\n",
              "1  2012-01-02           10.9      10.6       2.8   4.5     rain\n",
              "2  2012-01-03            0.8      11.7       7.2   2.3     rain\n",
              "3  2012-01-04           20.3      12.2       5.6   4.7     rain\n",
              "4  2012-01-05            1.3       8.9       2.8   6.1     rain"
            ]
          },
          "execution_count": 3,
          "metadata": {},
          "output_type": "execute_result"
        }
      ],
      "source": [
        "#Descarga del dataset\n",
        "url = \"https://cdn.jsdelivr.net/npm/vega-datasets@3.2.1/data/seattle-weather.csv\"\n",
        "df = pd.read_csv(url)\n",
        "df.head()"
      ]
    },
    {
      "cell_type": "code",
      "execution_count": 4,
      "id": "0b6c2d24",
      "metadata": {},
      "outputs": [
        {
          "data": {
            "text/plain": [
              "461"
            ]
          },
          "execution_count": 4,
          "metadata": {},
          "output_type": "execute_result"
        }
      ],
      "source": [
        "#Ingreso de los datos en raw a la base de datos\n",
        "df.to_sql(\"seattle_weather_raw\", con=engine, if_exists=\"replace\", index=False)"
      ]
    },
    {
      "cell_type": "code",
      "execution_count": 5,
      "id": "9a2d4102",
      "metadata": {},
      "outputs": [
        {
          "data": {
            "application/vnd.microsoft.datawrangler.viewer.v0+json": {
              "columns": [
                {
                  "name": "index",
                  "rawType": "int64",
                  "type": "integer"
                },
                {
                  "name": "date",
                  "rawType": "object",
                  "type": "string"
                },
                {
                  "name": "precipitation",
                  "rawType": "float64",
                  "type": "float"
                },
                {
                  "name": "temp_max",
                  "rawType": "float64",
                  "type": "float"
                },
                {
                  "name": "temp_min",
                  "rawType": "float64",
                  "type": "float"
                },
                {
                  "name": "wind",
                  "rawType": "float64",
                  "type": "float"
                },
                {
                  "name": "weather",
                  "rawType": "object",
                  "type": "string"
                }
              ],
              "ref": "ebd8ab5e-fa7f-4b03-86ab-9901fd75eccf",
              "rows": [
                [
                  "0",
                  "2012-01-01",
                  "0.0",
                  "12.8",
                  "5.0",
                  "4.7",
                  "drizzle"
                ],
                [
                  "1",
                  "2012-01-02",
                  "10.9",
                  "10.6",
                  "2.8",
                  "4.5",
                  "rain"
                ],
                [
                  "2",
                  "2012-01-03",
                  "0.8",
                  "11.7",
                  "7.2",
                  "2.3",
                  "rain"
                ],
                [
                  "3",
                  "2012-01-04",
                  "20.3",
                  "12.2",
                  "5.6",
                  "4.7",
                  "rain"
                ],
                [
                  "4",
                  "2012-01-05",
                  "1.3",
                  "8.9",
                  "2.8",
                  "6.1",
                  "rain"
                ],
                [
                  "5",
                  "2012-01-06",
                  "2.5",
                  "4.4",
                  "2.2",
                  "2.2",
                  "rain"
                ],
                [
                  "6",
                  "2012-01-07",
                  "0.0",
                  "7.2",
                  "2.8",
                  "2.3",
                  "rain"
                ],
                [
                  "7",
                  "2012-01-08",
                  "0.0",
                  "10.0",
                  "2.8",
                  "2.0",
                  "sun"
                ],
                [
                  "8",
                  "2012-01-09",
                  "4.3",
                  "9.4",
                  "5.0",
                  "3.4",
                  "rain"
                ],
                [
                  "9",
                  "2012-01-10",
                  "1.0",
                  "6.1",
                  "0.6",
                  "3.4",
                  "rain"
                ]
              ],
              "shape": {
                "columns": 6,
                "rows": 10
              }
            },
            "text/html": [
              "<div>\n",
              "<style scoped>\n",
              "    .dataframe tbody tr th:only-of-type {\n",
              "        vertical-align: middle;\n",
              "    }\n",
              "\n",
              "    .dataframe tbody tr th {\n",
              "        vertical-align: top;\n",
              "    }\n",
              "\n",
              "    .dataframe thead th {\n",
              "        text-align: right;\n",
              "    }\n",
              "</style>\n",
              "<table border=\"1\" class=\"dataframe\">\n",
              "  <thead>\n",
              "    <tr style=\"text-align: right;\">\n",
              "      <th></th>\n",
              "      <th>date</th>\n",
              "      <th>precipitation</th>\n",
              "      <th>temp_max</th>\n",
              "      <th>temp_min</th>\n",
              "      <th>wind</th>\n",
              "      <th>weather</th>\n",
              "    </tr>\n",
              "  </thead>\n",
              "  <tbody>\n",
              "    <tr>\n",
              "      <th>0</th>\n",
              "      <td>2012-01-01</td>\n",
              "      <td>0.0</td>\n",
              "      <td>12.8</td>\n",
              "      <td>5.0</td>\n",
              "      <td>4.7</td>\n",
              "      <td>drizzle</td>\n",
              "    </tr>\n",
              "    <tr>\n",
              "      <th>1</th>\n",
              "      <td>2012-01-02</td>\n",
              "      <td>10.9</td>\n",
              "      <td>10.6</td>\n",
              "      <td>2.8</td>\n",
              "      <td>4.5</td>\n",
              "      <td>rain</td>\n",
              "    </tr>\n",
              "    <tr>\n",
              "      <th>2</th>\n",
              "      <td>2012-01-03</td>\n",
              "      <td>0.8</td>\n",
              "      <td>11.7</td>\n",
              "      <td>7.2</td>\n",
              "      <td>2.3</td>\n",
              "      <td>rain</td>\n",
              "    </tr>\n",
              "    <tr>\n",
              "      <th>3</th>\n",
              "      <td>2012-01-04</td>\n",
              "      <td>20.3</td>\n",
              "      <td>12.2</td>\n",
              "      <td>5.6</td>\n",
              "      <td>4.7</td>\n",
              "      <td>rain</td>\n",
              "    </tr>\n",
              "    <tr>\n",
              "      <th>4</th>\n",
              "      <td>2012-01-05</td>\n",
              "      <td>1.3</td>\n",
              "      <td>8.9</td>\n",
              "      <td>2.8</td>\n",
              "      <td>6.1</td>\n",
              "      <td>rain</td>\n",
              "    </tr>\n",
              "    <tr>\n",
              "      <th>5</th>\n",
              "      <td>2012-01-06</td>\n",
              "      <td>2.5</td>\n",
              "      <td>4.4</td>\n",
              "      <td>2.2</td>\n",
              "      <td>2.2</td>\n",
              "      <td>rain</td>\n",
              "    </tr>\n",
              "    <tr>\n",
              "      <th>6</th>\n",
              "      <td>2012-01-07</td>\n",
              "      <td>0.0</td>\n",
              "      <td>7.2</td>\n",
              "      <td>2.8</td>\n",
              "      <td>2.3</td>\n",
              "      <td>rain</td>\n",
              "    </tr>\n",
              "    <tr>\n",
              "      <th>7</th>\n",
              "      <td>2012-01-08</td>\n",
              "      <td>0.0</td>\n",
              "      <td>10.0</td>\n",
              "      <td>2.8</td>\n",
              "      <td>2.0</td>\n",
              "      <td>sun</td>\n",
              "    </tr>\n",
              "    <tr>\n",
              "      <th>8</th>\n",
              "      <td>2012-01-09</td>\n",
              "      <td>4.3</td>\n",
              "      <td>9.4</td>\n",
              "      <td>5.0</td>\n",
              "      <td>3.4</td>\n",
              "      <td>rain</td>\n",
              "    </tr>\n",
              "    <tr>\n",
              "      <th>9</th>\n",
              "      <td>2012-01-10</td>\n",
              "      <td>1.0</td>\n",
              "      <td>6.1</td>\n",
              "      <td>0.6</td>\n",
              "      <td>3.4</td>\n",
              "      <td>rain</td>\n",
              "    </tr>\n",
              "  </tbody>\n",
              "</table>\n",
              "</div>"
            ],
            "text/plain": [
              "         date  precipitation  temp_max  temp_min  wind  weather\n",
              "0  2012-01-01            0.0      12.8       5.0   4.7  drizzle\n",
              "1  2012-01-02           10.9      10.6       2.8   4.5     rain\n",
              "2  2012-01-03            0.8      11.7       7.2   2.3     rain\n",
              "3  2012-01-04           20.3      12.2       5.6   4.7     rain\n",
              "4  2012-01-05            1.3       8.9       2.8   6.1     rain\n",
              "5  2012-01-06            2.5       4.4       2.2   2.2     rain\n",
              "6  2012-01-07            0.0       7.2       2.8   2.3     rain\n",
              "7  2012-01-08            0.0      10.0       2.8   2.0      sun\n",
              "8  2012-01-09            4.3       9.4       5.0   3.4     rain\n",
              "9  2012-01-10            1.0       6.1       0.6   3.4     rain"
            ]
          },
          "execution_count": 5,
          "metadata": {},
          "output_type": "execute_result"
        }
      ],
      "source": [
        "#Comprobación de la carga\n",
        "df = pd.read_sql(\"SELECT * FROM seattle_weather_raw;\", engine)\n",
        "df.head(10)"
      ]
    },
    {
      "cell_type": "markdown",
      "id": "e9a407c3",
      "metadata": {},
      "source": [
        "---\n",
        "### 2) Limpieza (tareas concretas)"
      ]
    },
    {
      "cell_type": "code",
      "execution_count": 6,
      "id": "a514bd1a",
      "metadata": {},
      "outputs": [],
      "source": [
        "#Eliminar duplicados en date\n",
        "df_clean = df.drop_duplicates(subset=['date'])"
      ]
    },
    {
      "cell_type": "code",
      "execution_count": 7,
      "id": "e084fe94",
      "metadata": {},
      "outputs": [
        {
          "data": {
            "application/vnd.microsoft.datawrangler.viewer.v0+json": {
              "columns": [
                {
                  "name": "index",
                  "rawType": "int64",
                  "type": "integer"
                },
                {
                  "name": "date",
                  "rawType": "object",
                  "type": "string"
                },
                {
                  "name": "precipitation",
                  "rawType": "float64",
                  "type": "float"
                },
                {
                  "name": "temp_max",
                  "rawType": "float64",
                  "type": "float"
                },
                {
                  "name": "temp_min",
                  "rawType": "float64",
                  "type": "float"
                },
                {
                  "name": "wind",
                  "rawType": "float64",
                  "type": "float"
                },
                {
                  "name": "weather",
                  "rawType": "object",
                  "type": "string"
                }
              ],
              "ref": "e1971732-2b05-450a-a711-509119be70ed",
              "rows": [
                [
                  "0",
                  "2012-01-01",
                  "0.0",
                  "12.8",
                  "5.0",
                  "4.7",
                  "drizzle"
                ],
                [
                  "1",
                  "2012-01-02",
                  "10.9",
                  "10.6",
                  "2.8",
                  "4.5",
                  "rain"
                ],
                [
                  "2",
                  "2012-01-03",
                  "0.8",
                  "11.7",
                  "7.2",
                  "2.3",
                  "rain"
                ],
                [
                  "3",
                  "2012-01-04",
                  "20.3",
                  "12.2",
                  "5.6",
                  "4.7",
                  "rain"
                ],
                [
                  "4",
                  "2012-01-05",
                  "1.3",
                  "8.9",
                  "2.8",
                  "6.1",
                  "rain"
                ],
                [
                  "5",
                  "2012-01-06",
                  "2.5",
                  "4.4",
                  "2.2",
                  "2.2",
                  "rain"
                ],
                [
                  "6",
                  "2012-01-07",
                  "0.0",
                  "7.2",
                  "2.8",
                  "2.3",
                  "rain"
                ],
                [
                  "7",
                  "2012-01-08",
                  "0.0",
                  "10.0",
                  "2.8",
                  "2.0",
                  "sun"
                ],
                [
                  "8",
                  "2012-01-09",
                  "4.3",
                  "9.4",
                  "5.0",
                  "3.4",
                  "rain"
                ],
                [
                  "9",
                  "2012-01-10",
                  "1.0",
                  "6.1",
                  "0.6",
                  "3.4",
                  "rain"
                ]
              ],
              "shape": {
                "columns": 6,
                "rows": 10
              }
            },
            "text/html": [
              "<div>\n",
              "<style scoped>\n",
              "    .dataframe tbody tr th:only-of-type {\n",
              "        vertical-align: middle;\n",
              "    }\n",
              "\n",
              "    .dataframe tbody tr th {\n",
              "        vertical-align: top;\n",
              "    }\n",
              "\n",
              "    .dataframe thead th {\n",
              "        text-align: right;\n",
              "    }\n",
              "</style>\n",
              "<table border=\"1\" class=\"dataframe\">\n",
              "  <thead>\n",
              "    <tr style=\"text-align: right;\">\n",
              "      <th></th>\n",
              "      <th>date</th>\n",
              "      <th>precipitation</th>\n",
              "      <th>temp_max</th>\n",
              "      <th>temp_min</th>\n",
              "      <th>wind</th>\n",
              "      <th>weather</th>\n",
              "    </tr>\n",
              "  </thead>\n",
              "  <tbody>\n",
              "    <tr>\n",
              "      <th>0</th>\n",
              "      <td>2012-01-01</td>\n",
              "      <td>0.0</td>\n",
              "      <td>12.8</td>\n",
              "      <td>5.0</td>\n",
              "      <td>4.7</td>\n",
              "      <td>drizzle</td>\n",
              "    </tr>\n",
              "    <tr>\n",
              "      <th>1</th>\n",
              "      <td>2012-01-02</td>\n",
              "      <td>10.9</td>\n",
              "      <td>10.6</td>\n",
              "      <td>2.8</td>\n",
              "      <td>4.5</td>\n",
              "      <td>rain</td>\n",
              "    </tr>\n",
              "    <tr>\n",
              "      <th>2</th>\n",
              "      <td>2012-01-03</td>\n",
              "      <td>0.8</td>\n",
              "      <td>11.7</td>\n",
              "      <td>7.2</td>\n",
              "      <td>2.3</td>\n",
              "      <td>rain</td>\n",
              "    </tr>\n",
              "    <tr>\n",
              "      <th>3</th>\n",
              "      <td>2012-01-04</td>\n",
              "      <td>20.3</td>\n",
              "      <td>12.2</td>\n",
              "      <td>5.6</td>\n",
              "      <td>4.7</td>\n",
              "      <td>rain</td>\n",
              "    </tr>\n",
              "    <tr>\n",
              "      <th>4</th>\n",
              "      <td>2012-01-05</td>\n",
              "      <td>1.3</td>\n",
              "      <td>8.9</td>\n",
              "      <td>2.8</td>\n",
              "      <td>6.1</td>\n",
              "      <td>rain</td>\n",
              "    </tr>\n",
              "    <tr>\n",
              "      <th>5</th>\n",
              "      <td>2012-01-06</td>\n",
              "      <td>2.5</td>\n",
              "      <td>4.4</td>\n",
              "      <td>2.2</td>\n",
              "      <td>2.2</td>\n",
              "      <td>rain</td>\n",
              "    </tr>\n",
              "    <tr>\n",
              "      <th>6</th>\n",
              "      <td>2012-01-07</td>\n",
              "      <td>0.0</td>\n",
              "      <td>7.2</td>\n",
              "      <td>2.8</td>\n",
              "      <td>2.3</td>\n",
              "      <td>rain</td>\n",
              "    </tr>\n",
              "    <tr>\n",
              "      <th>7</th>\n",
              "      <td>2012-01-08</td>\n",
              "      <td>0.0</td>\n",
              "      <td>10.0</td>\n",
              "      <td>2.8</td>\n",
              "      <td>2.0</td>\n",
              "      <td>sun</td>\n",
              "    </tr>\n",
              "    <tr>\n",
              "      <th>8</th>\n",
              "      <td>2012-01-09</td>\n",
              "      <td>4.3</td>\n",
              "      <td>9.4</td>\n",
              "      <td>5.0</td>\n",
              "      <td>3.4</td>\n",
              "      <td>rain</td>\n",
              "    </tr>\n",
              "    <tr>\n",
              "      <th>9</th>\n",
              "      <td>2012-01-10</td>\n",
              "      <td>1.0</td>\n",
              "      <td>6.1</td>\n",
              "      <td>0.6</td>\n",
              "      <td>3.4</td>\n",
              "      <td>rain</td>\n",
              "    </tr>\n",
              "  </tbody>\n",
              "</table>\n",
              "</div>"
            ],
            "text/plain": [
              "         date  precipitation  temp_max  temp_min  wind  weather\n",
              "0  2012-01-01            0.0      12.8       5.0   4.7  drizzle\n",
              "1  2012-01-02           10.9      10.6       2.8   4.5     rain\n",
              "2  2012-01-03            0.8      11.7       7.2   2.3     rain\n",
              "3  2012-01-04           20.3      12.2       5.6   4.7     rain\n",
              "4  2012-01-05            1.3       8.9       2.8   6.1     rain\n",
              "5  2012-01-06            2.5       4.4       2.2   2.2     rain\n",
              "6  2012-01-07            0.0       7.2       2.8   2.3     rain\n",
              "7  2012-01-08            0.0      10.0       2.8   2.0      sun\n",
              "8  2012-01-09            4.3       9.4       5.0   3.4     rain\n",
              "9  2012-01-10            1.0       6.1       0.6   3.4     rain"
            ]
          },
          "execution_count": 7,
          "metadata": {},
          "output_type": "execute_result"
        }
      ],
      "source": [
        "# Cambiamos los valores inválidos\n",
        "df_clean['precipitation'] = df_clean['precipitation'].where(df_clean['precipitation'] >= 0, 0)\n",
        "df_clean['wind'] = df_clean['wind'].where(df_clean['wind'] >= 0, 0)  # Elegimos 0 para mantener el mismo tipo de dato y no confundir con un NULL en la columna\n",
        "\n",
        "# Intercambiamos temp_max y temp_min donde temp_min > temp_max\n",
        "mask = df_clean['temp_min'] > df_clean['temp_max']\n",
        "df_clean.loc[mask, ['temp_max', 'temp_min']] = df_clean.loc[mask, ['temp_min', 'temp_max']].values\n",
        "\n",
        "# Normalización categórica de 'weather'\n",
        "weather_map = {\n",
        "    'sun': 'sun',\n",
        "    'sunny': 'sun',\n",
        "    'clear': 'sun',\n",
        "    'rain': 'rain',\n",
        "    'drizzle': 'drizzle',\n",
        "    'snow': 'snow',\n",
        "    'fog': 'fog',\n",
        "    'drizzle,rain': 'rain',\n",
        "    'rain,drizzle': 'rain',\n",
        "    'rain,snow': 'snow',\n",
        "    'snow,rain': 'snow',\n",
        "    'fog-rain': 'fog',\n",
        "    'fog,sun': 'fog',\n",
        "    'fog,snow': 'fog',\n",
        "    'fog,drizzle': 'fog',\n",
        "    'fog,rain': 'fog',\n",
        "    'fog,snow,rain': 'fog',\n",
        "    'fog,snow,drizzle': 'fog',\n",
        "    'fog,snow,rain,drizzle': 'fog'\n",
        "}\n",
        "\n",
        "df_clean['weather'] = (\n",
        "    df_clean['weather']\n",
        "    .astype(str)\n",
        "    .str.strip()\n",
        "    .str.lower()\n",
        "    .replace(weather_map)\n",
        ")\n",
        "df_clean.loc[~df_clean['weather'].isin(['sun', 'rain', 'drizzle', 'snow', 'fog']), 'weather'] = 'other'\n",
        "\n",
        "df_clean.head(10)"
      ]
    },
    {
      "cell_type": "code",
      "execution_count": 8,
      "id": "c723b8d7",
      "metadata": {},
      "outputs": [
        {
          "data": {
            "text/plain": [
              "461"
            ]
          },
          "execution_count": 8,
          "metadata": {},
          "output_type": "execute_result"
        }
      ],
      "source": [
        "#Ingreso de los datos limpios a la base de datos\n",
        "df_clean.to_sql(\"seattle_weather_clean\", con=engine, if_exists=\"replace\", index=False)"
      ]
    },
    {
      "cell_type": "code",
      "execution_count": 9,
      "id": "f5f46e7a",
      "metadata": {},
      "outputs": [
        {
          "data": {
            "application/vnd.microsoft.datawrangler.viewer.v0+json": {
              "columns": [
                {
                  "name": "index",
                  "rawType": "int64",
                  "type": "integer"
                },
                {
                  "name": "date",
                  "rawType": "object",
                  "type": "string"
                },
                {
                  "name": "precipitation",
                  "rawType": "float64",
                  "type": "float"
                },
                {
                  "name": "temp_max",
                  "rawType": "float64",
                  "type": "float"
                },
                {
                  "name": "temp_min",
                  "rawType": "float64",
                  "type": "float"
                },
                {
                  "name": "wind",
                  "rawType": "float64",
                  "type": "float"
                },
                {
                  "name": "weather",
                  "rawType": "object",
                  "type": "string"
                }
              ],
              "ref": "a104a7aa-a2e5-420e-9d3d-2287c7652468",
              "rows": [
                [
                  "0",
                  "2012-01-01",
                  "0.0",
                  "12.8",
                  "5.0",
                  "4.7",
                  "drizzle"
                ],
                [
                  "1",
                  "2012-01-02",
                  "10.9",
                  "10.6",
                  "2.8",
                  "4.5",
                  "rain"
                ],
                [
                  "2",
                  "2012-01-03",
                  "0.8",
                  "11.7",
                  "7.2",
                  "2.3",
                  "rain"
                ],
                [
                  "3",
                  "2012-01-04",
                  "20.3",
                  "12.2",
                  "5.6",
                  "4.7",
                  "rain"
                ],
                [
                  "4",
                  "2012-01-05",
                  "1.3",
                  "8.9",
                  "2.8",
                  "6.1",
                  "rain"
                ],
                [
                  "5",
                  "2012-01-06",
                  "2.5",
                  "4.4",
                  "2.2",
                  "2.2",
                  "rain"
                ],
                [
                  "6",
                  "2012-01-07",
                  "0.0",
                  "7.2",
                  "2.8",
                  "2.3",
                  "rain"
                ],
                [
                  "7",
                  "2012-01-08",
                  "0.0",
                  "10.0",
                  "2.8",
                  "2.0",
                  "sun"
                ],
                [
                  "8",
                  "2012-01-09",
                  "4.3",
                  "9.4",
                  "5.0",
                  "3.4",
                  "rain"
                ],
                [
                  "9",
                  "2012-01-10",
                  "1.0",
                  "6.1",
                  "0.6",
                  "3.4",
                  "rain"
                ]
              ],
              "shape": {
                "columns": 6,
                "rows": 10
              }
            },
            "text/html": [
              "<div>\n",
              "<style scoped>\n",
              "    .dataframe tbody tr th:only-of-type {\n",
              "        vertical-align: middle;\n",
              "    }\n",
              "\n",
              "    .dataframe tbody tr th {\n",
              "        vertical-align: top;\n",
              "    }\n",
              "\n",
              "    .dataframe thead th {\n",
              "        text-align: right;\n",
              "    }\n",
              "</style>\n",
              "<table border=\"1\" class=\"dataframe\">\n",
              "  <thead>\n",
              "    <tr style=\"text-align: right;\">\n",
              "      <th></th>\n",
              "      <th>date</th>\n",
              "      <th>precipitation</th>\n",
              "      <th>temp_max</th>\n",
              "      <th>temp_min</th>\n",
              "      <th>wind</th>\n",
              "      <th>weather</th>\n",
              "    </tr>\n",
              "  </thead>\n",
              "  <tbody>\n",
              "    <tr>\n",
              "      <th>0</th>\n",
              "      <td>2012-01-01</td>\n",
              "      <td>0.0</td>\n",
              "      <td>12.8</td>\n",
              "      <td>5.0</td>\n",
              "      <td>4.7</td>\n",
              "      <td>drizzle</td>\n",
              "    </tr>\n",
              "    <tr>\n",
              "      <th>1</th>\n",
              "      <td>2012-01-02</td>\n",
              "      <td>10.9</td>\n",
              "      <td>10.6</td>\n",
              "      <td>2.8</td>\n",
              "      <td>4.5</td>\n",
              "      <td>rain</td>\n",
              "    </tr>\n",
              "    <tr>\n",
              "      <th>2</th>\n",
              "      <td>2012-01-03</td>\n",
              "      <td>0.8</td>\n",
              "      <td>11.7</td>\n",
              "      <td>7.2</td>\n",
              "      <td>2.3</td>\n",
              "      <td>rain</td>\n",
              "    </tr>\n",
              "    <tr>\n",
              "      <th>3</th>\n",
              "      <td>2012-01-04</td>\n",
              "      <td>20.3</td>\n",
              "      <td>12.2</td>\n",
              "      <td>5.6</td>\n",
              "      <td>4.7</td>\n",
              "      <td>rain</td>\n",
              "    </tr>\n",
              "    <tr>\n",
              "      <th>4</th>\n",
              "      <td>2012-01-05</td>\n",
              "      <td>1.3</td>\n",
              "      <td>8.9</td>\n",
              "      <td>2.8</td>\n",
              "      <td>6.1</td>\n",
              "      <td>rain</td>\n",
              "    </tr>\n",
              "    <tr>\n",
              "      <th>5</th>\n",
              "      <td>2012-01-06</td>\n",
              "      <td>2.5</td>\n",
              "      <td>4.4</td>\n",
              "      <td>2.2</td>\n",
              "      <td>2.2</td>\n",
              "      <td>rain</td>\n",
              "    </tr>\n",
              "    <tr>\n",
              "      <th>6</th>\n",
              "      <td>2012-01-07</td>\n",
              "      <td>0.0</td>\n",
              "      <td>7.2</td>\n",
              "      <td>2.8</td>\n",
              "      <td>2.3</td>\n",
              "      <td>rain</td>\n",
              "    </tr>\n",
              "    <tr>\n",
              "      <th>7</th>\n",
              "      <td>2012-01-08</td>\n",
              "      <td>0.0</td>\n",
              "      <td>10.0</td>\n",
              "      <td>2.8</td>\n",
              "      <td>2.0</td>\n",
              "      <td>sun</td>\n",
              "    </tr>\n",
              "    <tr>\n",
              "      <th>8</th>\n",
              "      <td>2012-01-09</td>\n",
              "      <td>4.3</td>\n",
              "      <td>9.4</td>\n",
              "      <td>5.0</td>\n",
              "      <td>3.4</td>\n",
              "      <td>rain</td>\n",
              "    </tr>\n",
              "    <tr>\n",
              "      <th>9</th>\n",
              "      <td>2012-01-10</td>\n",
              "      <td>1.0</td>\n",
              "      <td>6.1</td>\n",
              "      <td>0.6</td>\n",
              "      <td>3.4</td>\n",
              "      <td>rain</td>\n",
              "    </tr>\n",
              "  </tbody>\n",
              "</table>\n",
              "</div>"
            ],
            "text/plain": [
              "         date  precipitation  temp_max  temp_min  wind  weather\n",
              "0  2012-01-01            0.0      12.8       5.0   4.7  drizzle\n",
              "1  2012-01-02           10.9      10.6       2.8   4.5     rain\n",
              "2  2012-01-03            0.8      11.7       7.2   2.3     rain\n",
              "3  2012-01-04           20.3      12.2       5.6   4.7     rain\n",
              "4  2012-01-05            1.3       8.9       2.8   6.1     rain\n",
              "5  2012-01-06            2.5       4.4       2.2   2.2     rain\n",
              "6  2012-01-07            0.0       7.2       2.8   2.3     rain\n",
              "7  2012-01-08            0.0      10.0       2.8   2.0      sun\n",
              "8  2012-01-09            4.3       9.4       5.0   3.4     rain\n",
              "9  2012-01-10            1.0       6.1       0.6   3.4     rain"
            ]
          },
          "execution_count": 9,
          "metadata": {},
          "output_type": "execute_result"
        }
      ],
      "source": [
        "#Nos aseguramos de que todo está correcto\n",
        "df_clean = pd.read_sql(\"SELECT * FROM seattle_weather_clean;\", engine)\n",
        "df_clean.head(10)"
      ]
    },
    {
      "cell_type": "markdown",
      "id": "6a12f20b",
      "metadata": {},
      "source": [
        "---\n",
        "### 3) Nuevas variables"
      ]
    },
    {
      "cell_type": "code",
      "execution_count": 10,
      "id": "3bdfeca1",
      "metadata": {},
      "outputs": [],
      "source": [
        "#Extraemos variables desde la fecha\n",
        "df['year'] = pd.to_datetime(df['date']).dt.year\n",
        "df['month'] = pd.to_datetime(df['date']).dt.month\n",
        "df['dow'] = pd.to_datetime(df['date']).dt.day_name()\n"
      ]
    },
    {
      "cell_type": "code",
      "execution_count": 11,
      "id": "795c2e12",
      "metadata": {},
      "outputs": [],
      "source": [
        "#Creamos la variable season a partir del mes\n",
        "df['season'] = df['month'] % 12 // 3 + 1\n",
        "season_map = {1: 'Winter', 2: 'Spring', 3: 'Summer', 4: 'Fall'}\n",
        "df['season'] = df['season'].map(season_map)"
      ]
    },
    {
      "cell_type": "code",
      "execution_count": 12,
      "id": "2807b5f3",
      "metadata": {},
      "outputs": [
        {
          "data": {
            "application/vnd.microsoft.datawrangler.viewer.v0+json": {
              "columns": [
                {
                  "name": "index",
                  "rawType": "int64",
                  "type": "integer"
                },
                {
                  "name": "date",
                  "rawType": "object",
                  "type": "string"
                },
                {
                  "name": "precipitation",
                  "rawType": "float64",
                  "type": "float"
                },
                {
                  "name": "temp_max",
                  "rawType": "float64",
                  "type": "float"
                },
                {
                  "name": "temp_min",
                  "rawType": "float64",
                  "type": "float"
                },
                {
                  "name": "wind",
                  "rawType": "float64",
                  "type": "float"
                },
                {
                  "name": "weather",
                  "rawType": "object",
                  "type": "string"
                },
                {
                  "name": "year",
                  "rawType": "int32",
                  "type": "integer"
                },
                {
                  "name": "month",
                  "rawType": "int32",
                  "type": "integer"
                },
                {
                  "name": "dow",
                  "rawType": "object",
                  "type": "string"
                },
                {
                  "name": "season",
                  "rawType": "object",
                  "type": "string"
                },
                {
                  "name": "temp_range",
                  "rawType": "float64",
                  "type": "float"
                },
                {
                  "name": "teamp_mean",
                  "rawType": "float64",
                  "type": "float"
                },
                {
                  "name": "is_wet_day",
                  "rawType": "bool",
                  "type": "boolean"
                }
              ],
              "ref": "55f7f1c5-8e3f-4f9d-bea0-68897917d05d",
              "rows": [
                [
                  "0",
                  "2012-01-01",
                  "0.0",
                  "12.8",
                  "5.0",
                  "4.7",
                  "drizzle",
                  "2012",
                  "1",
                  "Sunday",
                  "Winter",
                  "7.800000000000001",
                  "8.9",
                  "False"
                ],
                [
                  "1",
                  "2012-01-02",
                  "10.9",
                  "10.6",
                  "2.8",
                  "4.5",
                  "rain",
                  "2012",
                  "1",
                  "Monday",
                  "Winter",
                  "7.8",
                  "6.7",
                  "True"
                ],
                [
                  "2",
                  "2012-01-03",
                  "0.8",
                  "11.7",
                  "7.2",
                  "2.3",
                  "rain",
                  "2012",
                  "1",
                  "Tuesday",
                  "Winter",
                  "4.499999999999999",
                  "9.45",
                  "True"
                ],
                [
                  "3",
                  "2012-01-04",
                  "20.3",
                  "12.2",
                  "5.6",
                  "4.7",
                  "rain",
                  "2012",
                  "1",
                  "Wednesday",
                  "Winter",
                  "6.6",
                  "8.9",
                  "True"
                ],
                [
                  "4",
                  "2012-01-05",
                  "1.3",
                  "8.9",
                  "2.8",
                  "6.1",
                  "rain",
                  "2012",
                  "1",
                  "Thursday",
                  "Winter",
                  "6.1000000000000005",
                  "5.85",
                  "True"
                ],
                [
                  "5",
                  "2012-01-06",
                  "2.5",
                  "4.4",
                  "2.2",
                  "2.2",
                  "rain",
                  "2012",
                  "1",
                  "Friday",
                  "Winter",
                  "2.2",
                  "3.3",
                  "True"
                ],
                [
                  "6",
                  "2012-01-07",
                  "0.0",
                  "7.2",
                  "2.8",
                  "2.3",
                  "rain",
                  "2012",
                  "1",
                  "Saturday",
                  "Winter",
                  "4.4",
                  "5.0",
                  "False"
                ],
                [
                  "7",
                  "2012-01-08",
                  "0.0",
                  "10.0",
                  "2.8",
                  "2.0",
                  "sun",
                  "2012",
                  "1",
                  "Sunday",
                  "Winter",
                  "7.2",
                  "6.4",
                  "False"
                ],
                [
                  "8",
                  "2012-01-09",
                  "4.3",
                  "9.4",
                  "5.0",
                  "3.4",
                  "rain",
                  "2012",
                  "1",
                  "Monday",
                  "Winter",
                  "4.4",
                  "7.2",
                  "True"
                ],
                [
                  "9",
                  "2012-01-10",
                  "1.0",
                  "6.1",
                  "0.6",
                  "3.4",
                  "rain",
                  "2012",
                  "1",
                  "Tuesday",
                  "Winter",
                  "5.5",
                  "3.35",
                  "True"
                ]
              ],
              "shape": {
                "columns": 13,
                "rows": 10
              }
            },
            "text/html": [
              "<div>\n",
              "<style scoped>\n",
              "    .dataframe tbody tr th:only-of-type {\n",
              "        vertical-align: middle;\n",
              "    }\n",
              "\n",
              "    .dataframe tbody tr th {\n",
              "        vertical-align: top;\n",
              "    }\n",
              "\n",
              "    .dataframe thead th {\n",
              "        text-align: right;\n",
              "    }\n",
              "</style>\n",
              "<table border=\"1\" class=\"dataframe\">\n",
              "  <thead>\n",
              "    <tr style=\"text-align: right;\">\n",
              "      <th></th>\n",
              "      <th>date</th>\n",
              "      <th>precipitation</th>\n",
              "      <th>temp_max</th>\n",
              "      <th>temp_min</th>\n",
              "      <th>wind</th>\n",
              "      <th>weather</th>\n",
              "      <th>year</th>\n",
              "      <th>month</th>\n",
              "      <th>dow</th>\n",
              "      <th>season</th>\n",
              "      <th>temp_range</th>\n",
              "      <th>teamp_mean</th>\n",
              "      <th>is_wet_day</th>\n",
              "    </tr>\n",
              "  </thead>\n",
              "  <tbody>\n",
              "    <tr>\n",
              "      <th>0</th>\n",
              "      <td>2012-01-01</td>\n",
              "      <td>0.0</td>\n",
              "      <td>12.8</td>\n",
              "      <td>5.0</td>\n",
              "      <td>4.7</td>\n",
              "      <td>drizzle</td>\n",
              "      <td>2012</td>\n",
              "      <td>1</td>\n",
              "      <td>Sunday</td>\n",
              "      <td>Winter</td>\n",
              "      <td>7.8</td>\n",
              "      <td>8.90</td>\n",
              "      <td>False</td>\n",
              "    </tr>\n",
              "    <tr>\n",
              "      <th>1</th>\n",
              "      <td>2012-01-02</td>\n",
              "      <td>10.9</td>\n",
              "      <td>10.6</td>\n",
              "      <td>2.8</td>\n",
              "      <td>4.5</td>\n",
              "      <td>rain</td>\n",
              "      <td>2012</td>\n",
              "      <td>1</td>\n",
              "      <td>Monday</td>\n",
              "      <td>Winter</td>\n",
              "      <td>7.8</td>\n",
              "      <td>6.70</td>\n",
              "      <td>True</td>\n",
              "    </tr>\n",
              "    <tr>\n",
              "      <th>2</th>\n",
              "      <td>2012-01-03</td>\n",
              "      <td>0.8</td>\n",
              "      <td>11.7</td>\n",
              "      <td>7.2</td>\n",
              "      <td>2.3</td>\n",
              "      <td>rain</td>\n",
              "      <td>2012</td>\n",
              "      <td>1</td>\n",
              "      <td>Tuesday</td>\n",
              "      <td>Winter</td>\n",
              "      <td>4.5</td>\n",
              "      <td>9.45</td>\n",
              "      <td>True</td>\n",
              "    </tr>\n",
              "    <tr>\n",
              "      <th>3</th>\n",
              "      <td>2012-01-04</td>\n",
              "      <td>20.3</td>\n",
              "      <td>12.2</td>\n",
              "      <td>5.6</td>\n",
              "      <td>4.7</td>\n",
              "      <td>rain</td>\n",
              "      <td>2012</td>\n",
              "      <td>1</td>\n",
              "      <td>Wednesday</td>\n",
              "      <td>Winter</td>\n",
              "      <td>6.6</td>\n",
              "      <td>8.90</td>\n",
              "      <td>True</td>\n",
              "    </tr>\n",
              "    <tr>\n",
              "      <th>4</th>\n",
              "      <td>2012-01-05</td>\n",
              "      <td>1.3</td>\n",
              "      <td>8.9</td>\n",
              "      <td>2.8</td>\n",
              "      <td>6.1</td>\n",
              "      <td>rain</td>\n",
              "      <td>2012</td>\n",
              "      <td>1</td>\n",
              "      <td>Thursday</td>\n",
              "      <td>Winter</td>\n",
              "      <td>6.1</td>\n",
              "      <td>5.85</td>\n",
              "      <td>True</td>\n",
              "    </tr>\n",
              "    <tr>\n",
              "      <th>5</th>\n",
              "      <td>2012-01-06</td>\n",
              "      <td>2.5</td>\n",
              "      <td>4.4</td>\n",
              "      <td>2.2</td>\n",
              "      <td>2.2</td>\n",
              "      <td>rain</td>\n",
              "      <td>2012</td>\n",
              "      <td>1</td>\n",
              "      <td>Friday</td>\n",
              "      <td>Winter</td>\n",
              "      <td>2.2</td>\n",
              "      <td>3.30</td>\n",
              "      <td>True</td>\n",
              "    </tr>\n",
              "    <tr>\n",
              "      <th>6</th>\n",
              "      <td>2012-01-07</td>\n",
              "      <td>0.0</td>\n",
              "      <td>7.2</td>\n",
              "      <td>2.8</td>\n",
              "      <td>2.3</td>\n",
              "      <td>rain</td>\n",
              "      <td>2012</td>\n",
              "      <td>1</td>\n",
              "      <td>Saturday</td>\n",
              "      <td>Winter</td>\n",
              "      <td>4.4</td>\n",
              "      <td>5.00</td>\n",
              "      <td>False</td>\n",
              "    </tr>\n",
              "    <tr>\n",
              "      <th>7</th>\n",
              "      <td>2012-01-08</td>\n",
              "      <td>0.0</td>\n",
              "      <td>10.0</td>\n",
              "      <td>2.8</td>\n",
              "      <td>2.0</td>\n",
              "      <td>sun</td>\n",
              "      <td>2012</td>\n",
              "      <td>1</td>\n",
              "      <td>Sunday</td>\n",
              "      <td>Winter</td>\n",
              "      <td>7.2</td>\n",
              "      <td>6.40</td>\n",
              "      <td>False</td>\n",
              "    </tr>\n",
              "    <tr>\n",
              "      <th>8</th>\n",
              "      <td>2012-01-09</td>\n",
              "      <td>4.3</td>\n",
              "      <td>9.4</td>\n",
              "      <td>5.0</td>\n",
              "      <td>3.4</td>\n",
              "      <td>rain</td>\n",
              "      <td>2012</td>\n",
              "      <td>1</td>\n",
              "      <td>Monday</td>\n",
              "      <td>Winter</td>\n",
              "      <td>4.4</td>\n",
              "      <td>7.20</td>\n",
              "      <td>True</td>\n",
              "    </tr>\n",
              "    <tr>\n",
              "      <th>9</th>\n",
              "      <td>2012-01-10</td>\n",
              "      <td>1.0</td>\n",
              "      <td>6.1</td>\n",
              "      <td>0.6</td>\n",
              "      <td>3.4</td>\n",
              "      <td>rain</td>\n",
              "      <td>2012</td>\n",
              "      <td>1</td>\n",
              "      <td>Tuesday</td>\n",
              "      <td>Winter</td>\n",
              "      <td>5.5</td>\n",
              "      <td>3.35</td>\n",
              "      <td>True</td>\n",
              "    </tr>\n",
              "  </tbody>\n",
              "</table>\n",
              "</div>"
            ],
            "text/plain": [
              "         date  precipitation  temp_max  temp_min  wind  weather  year  month  \\\n",
              "0  2012-01-01            0.0      12.8       5.0   4.7  drizzle  2012      1   \n",
              "1  2012-01-02           10.9      10.6       2.8   4.5     rain  2012      1   \n",
              "2  2012-01-03            0.8      11.7       7.2   2.3     rain  2012      1   \n",
              "3  2012-01-04           20.3      12.2       5.6   4.7     rain  2012      1   \n",
              "4  2012-01-05            1.3       8.9       2.8   6.1     rain  2012      1   \n",
              "5  2012-01-06            2.5       4.4       2.2   2.2     rain  2012      1   \n",
              "6  2012-01-07            0.0       7.2       2.8   2.3     rain  2012      1   \n",
              "7  2012-01-08            0.0      10.0       2.8   2.0      sun  2012      1   \n",
              "8  2012-01-09            4.3       9.4       5.0   3.4     rain  2012      1   \n",
              "9  2012-01-10            1.0       6.1       0.6   3.4     rain  2012      1   \n",
              "\n",
              "         dow  season  temp_range  teamp_mean  is_wet_day  \n",
              "0     Sunday  Winter         7.8        8.90       False  \n",
              "1     Monday  Winter         7.8        6.70        True  \n",
              "2    Tuesday  Winter         4.5        9.45        True  \n",
              "3  Wednesday  Winter         6.6        8.90        True  \n",
              "4   Thursday  Winter         6.1        5.85        True  \n",
              "5     Friday  Winter         2.2        3.30        True  \n",
              "6   Saturday  Winter         4.4        5.00       False  \n",
              "7     Sunday  Winter         7.2        6.40       False  \n",
              "8     Monday  Winter         4.4        7.20        True  \n",
              "9    Tuesday  Winter         5.5        3.35        True  "
            ]
          },
          "execution_count": 12,
          "metadata": {},
          "output_type": "execute_result"
        }
      ],
      "source": [
        "df['temp_range'] = df['temp_max'] - df['temp_min']\n",
        "df['teamp_mean'] = (df['temp_max'] + df['temp_min']) / 2\n",
        "df['teamp_mean'] = df['teamp_mean'].round(2)\n",
        "df['is_wet_day'] = df['precipitation'] > 0\n",
        "\n",
        "df.head(10)"
      ]
    },
    {
      "cell_type": "markdown",
      "id": "1cb27063",
      "metadata": {},
      "source": [
        "---\n",
        "### 4) Tablas agrupadas"
      ]
    },
    {
      "cell_type": "code",
      "execution_count": 13,
      "id": "d1cc367d",
      "metadata": {},
      "outputs": [
        {
          "data": {
            "application/vnd.microsoft.datawrangler.viewer.v0+json": {
              "columns": [
                {
                  "name": "index",
                  "rawType": "int64",
                  "type": "integer"
                },
                {
                  "name": "year",
                  "rawType": "int32",
                  "type": "integer"
                },
                {
                  "name": "days",
                  "rawType": "int64",
                  "type": "integer"
                },
                {
                  "name": "avg_temp_mean",
                  "rawType": "float64",
                  "type": "float"
                },
                {
                  "name": "max_temp_max",
                  "rawType": "float64",
                  "type": "float"
                },
                {
                  "name": "min_temp_min",
                  "rawType": "float64",
                  "type": "float"
                },
                {
                  "name": "total_precip",
                  "rawType": "float64",
                  "type": "float"
                },
                {
                  "name": "wet_days",
                  "rawType": "int64",
                  "type": "integer"
                }
              ],
              "ref": "e996f5e2-f279-4a6f-917d-d683316ac754",
              "rows": [
                [
                  "0",
                  "2012",
                  "366",
                  "11.28",
                  "34.4",
                  "-3.3",
                  "1226.0",
                  "177"
                ],
                [
                  "1",
                  "2013",
                  "365",
                  "12.11",
                  "33.9",
                  "-7.1",
                  "828.0",
                  "152"
                ],
                [
                  "2",
                  "2014",
                  "365",
                  "12.83",
                  "35.6",
                  "-6.0",
                  "1232.8",
                  "150"
                ],
                [
                  "3",
                  "2015",
                  "365",
                  "13.13",
                  "35.0",
                  "-3.8",
                  "1139.2",
                  "144"
                ]
              ],
              "shape": {
                "columns": 7,
                "rows": 4
              }
            },
            "text/html": [
              "<div>\n",
              "<style scoped>\n",
              "    .dataframe tbody tr th:only-of-type {\n",
              "        vertical-align: middle;\n",
              "    }\n",
              "\n",
              "    .dataframe tbody tr th {\n",
              "        vertical-align: top;\n",
              "    }\n",
              "\n",
              "    .dataframe thead th {\n",
              "        text-align: right;\n",
              "    }\n",
              "</style>\n",
              "<table border=\"1\" class=\"dataframe\">\n",
              "  <thead>\n",
              "    <tr style=\"text-align: right;\">\n",
              "      <th></th>\n",
              "      <th>year</th>\n",
              "      <th>days</th>\n",
              "      <th>avg_temp_mean</th>\n",
              "      <th>max_temp_max</th>\n",
              "      <th>min_temp_min</th>\n",
              "      <th>total_precip</th>\n",
              "      <th>wet_days</th>\n",
              "    </tr>\n",
              "  </thead>\n",
              "  <tbody>\n",
              "    <tr>\n",
              "      <th>0</th>\n",
              "      <td>2012</td>\n",
              "      <td>366</td>\n",
              "      <td>11.28</td>\n",
              "      <td>34.4</td>\n",
              "      <td>-3.3</td>\n",
              "      <td>1226.0</td>\n",
              "      <td>177</td>\n",
              "    </tr>\n",
              "    <tr>\n",
              "      <th>1</th>\n",
              "      <td>2013</td>\n",
              "      <td>365</td>\n",
              "      <td>12.11</td>\n",
              "      <td>33.9</td>\n",
              "      <td>-7.1</td>\n",
              "      <td>828.0</td>\n",
              "      <td>152</td>\n",
              "    </tr>\n",
              "    <tr>\n",
              "      <th>2</th>\n",
              "      <td>2014</td>\n",
              "      <td>365</td>\n",
              "      <td>12.83</td>\n",
              "      <td>35.6</td>\n",
              "      <td>-6.0</td>\n",
              "      <td>1232.8</td>\n",
              "      <td>150</td>\n",
              "    </tr>\n",
              "    <tr>\n",
              "      <th>3</th>\n",
              "      <td>2015</td>\n",
              "      <td>365</td>\n",
              "      <td>13.13</td>\n",
              "      <td>35.0</td>\n",
              "      <td>-3.8</td>\n",
              "      <td>1139.2</td>\n",
              "      <td>144</td>\n",
              "    </tr>\n",
              "  </tbody>\n",
              "</table>\n",
              "</div>"
            ],
            "text/plain": [
              "   year  days  avg_temp_mean  max_temp_max  min_temp_min  total_precip  \\\n",
              "0  2012   366          11.28          34.4          -3.3        1226.0   \n",
              "1  2013   365          12.11          33.9          -7.1         828.0   \n",
              "2  2014   365          12.83          35.6          -6.0        1232.8   \n",
              "3  2015   365          13.13          35.0          -3.8        1139.2   \n",
              "\n",
              "   wet_days  \n",
              "0       177  \n",
              "1       152  \n",
              "2       150  \n",
              "3       144  "
            ]
          },
          "execution_count": 13,
          "metadata": {},
          "output_type": "execute_result"
        }
      ],
      "source": [
        "#Agrupamos por año y calculamos las estadísticas requeridas\n",
        "sw_agg_by_year = df.groupby('year').agg(\n",
        "    days=('date', 'count'),\n",
        "    avg_temp_mean=('teamp_mean', 'mean'),\n",
        "    max_temp_max=('temp_max', 'max'),\n",
        "    min_temp_min=('temp_min', 'min'),\n",
        "    total_precip=('precipitation', 'sum'),\n",
        "    wet_days=('is_wet_day', 'sum')\n",
        ").reset_index()\n",
        "\n",
        "sw_agg_by_year['avg_temp_mean'] = sw_agg_by_year['avg_temp_mean'].round(2)\n",
        "sw_agg_by_year['total_precip'] = sw_agg_by_year['total_precip'].round(2)\n",
        "\n",
        "sw_agg_by_year.head(10)"
      ]
    },
    {
      "cell_type": "code",
      "execution_count": 14,
      "id": "58e7bdc4",
      "metadata": {},
      "outputs": [
        {
          "data": {
            "application/vnd.microsoft.datawrangler.viewer.v0+json": {
              "columns": [
                {
                  "name": "index",
                  "rawType": "int64",
                  "type": "integer"
                },
                {
                  "name": "month",
                  "rawType": "int32",
                  "type": "integer"
                },
                {
                  "name": "days",
                  "rawType": "int64",
                  "type": "integer"
                },
                {
                  "name": "avg_temp_mean",
                  "rawType": "float64",
                  "type": "float"
                },
                {
                  "name": "total_precip",
                  "rawType": "float64",
                  "type": "float"
                },
                {
                  "name": "wet_days",
                  "rawType": "int64",
                  "type": "integer"
                }
              ],
              "ref": "ab7ba8d6-5fd1-4c70-8c0d-e740cccc0e3e",
              "rows": [
                [
                  "0",
                  "1",
                  "124",
                  "5.46",
                  "466.0",
                  "66"
                ],
                [
                  "1",
                  "2",
                  "113",
                  "6.96",
                  "422.0",
                  "73"
                ],
                [
                  "2",
                  "3",
                  "124",
                  "8.62",
                  "606.2",
                  "73"
                ],
                [
                  "3",
                  "4",
                  "120",
                  "10.69",
                  "375.4",
                  "59"
                ],
                [
                  "4",
                  "5",
                  "124",
                  "14.46",
                  "207.5",
                  "34"
                ],
                [
                  "5",
                  "6",
                  "120",
                  "17.32",
                  "132.9",
                  "37"
                ],
                [
                  "6",
                  "7",
                  "124",
                  "20.1",
                  "48.2",
                  "11"
                ],
                [
                  "7",
                  "8",
                  "124",
                  "20.44",
                  "163.7",
                  "22"
                ],
                [
                  "8",
                  "9",
                  "120",
                  "17.14",
                  "235.5",
                  "35"
                ],
                [
                  "9",
                  "10",
                  "124",
                  "12.87",
                  "503.4",
                  "61"
                ],
                [
                  "10",
                  "11",
                  "120",
                  "7.86",
                  "642.5",
                  "71"
                ],
                [
                  "11",
                  "12",
                  "124",
                  "5.76",
                  "622.7",
                  "81"
                ]
              ],
              "shape": {
                "columns": 5,
                "rows": 12
              }
            },
            "text/html": [
              "<div>\n",
              "<style scoped>\n",
              "    .dataframe tbody tr th:only-of-type {\n",
              "        vertical-align: middle;\n",
              "    }\n",
              "\n",
              "    .dataframe tbody tr th {\n",
              "        vertical-align: top;\n",
              "    }\n",
              "\n",
              "    .dataframe thead th {\n",
              "        text-align: right;\n",
              "    }\n",
              "</style>\n",
              "<table border=\"1\" class=\"dataframe\">\n",
              "  <thead>\n",
              "    <tr style=\"text-align: right;\">\n",
              "      <th></th>\n",
              "      <th>month</th>\n",
              "      <th>days</th>\n",
              "      <th>avg_temp_mean</th>\n",
              "      <th>total_precip</th>\n",
              "      <th>wet_days</th>\n",
              "    </tr>\n",
              "  </thead>\n",
              "  <tbody>\n",
              "    <tr>\n",
              "      <th>0</th>\n",
              "      <td>1</td>\n",
              "      <td>124</td>\n",
              "      <td>5.46</td>\n",
              "      <td>466.0</td>\n",
              "      <td>66</td>\n",
              "    </tr>\n",
              "    <tr>\n",
              "      <th>1</th>\n",
              "      <td>2</td>\n",
              "      <td>113</td>\n",
              "      <td>6.96</td>\n",
              "      <td>422.0</td>\n",
              "      <td>73</td>\n",
              "    </tr>\n",
              "    <tr>\n",
              "      <th>2</th>\n",
              "      <td>3</td>\n",
              "      <td>124</td>\n",
              "      <td>8.62</td>\n",
              "      <td>606.2</td>\n",
              "      <td>73</td>\n",
              "    </tr>\n",
              "    <tr>\n",
              "      <th>3</th>\n",
              "      <td>4</td>\n",
              "      <td>120</td>\n",
              "      <td>10.69</td>\n",
              "      <td>375.4</td>\n",
              "      <td>59</td>\n",
              "    </tr>\n",
              "    <tr>\n",
              "      <th>4</th>\n",
              "      <td>5</td>\n",
              "      <td>124</td>\n",
              "      <td>14.46</td>\n",
              "      <td>207.5</td>\n",
              "      <td>34</td>\n",
              "    </tr>\n",
              "    <tr>\n",
              "      <th>5</th>\n",
              "      <td>6</td>\n",
              "      <td>120</td>\n",
              "      <td>17.32</td>\n",
              "      <td>132.9</td>\n",
              "      <td>37</td>\n",
              "    </tr>\n",
              "    <tr>\n",
              "      <th>6</th>\n",
              "      <td>7</td>\n",
              "      <td>124</td>\n",
              "      <td>20.10</td>\n",
              "      <td>48.2</td>\n",
              "      <td>11</td>\n",
              "    </tr>\n",
              "    <tr>\n",
              "      <th>7</th>\n",
              "      <td>8</td>\n",
              "      <td>124</td>\n",
              "      <td>20.44</td>\n",
              "      <td>163.7</td>\n",
              "      <td>22</td>\n",
              "    </tr>\n",
              "    <tr>\n",
              "      <th>8</th>\n",
              "      <td>9</td>\n",
              "      <td>120</td>\n",
              "      <td>17.14</td>\n",
              "      <td>235.5</td>\n",
              "      <td>35</td>\n",
              "    </tr>\n",
              "    <tr>\n",
              "      <th>9</th>\n",
              "      <td>10</td>\n",
              "      <td>124</td>\n",
              "      <td>12.87</td>\n",
              "      <td>503.4</td>\n",
              "      <td>61</td>\n",
              "    </tr>\n",
              "    <tr>\n",
              "      <th>10</th>\n",
              "      <td>11</td>\n",
              "      <td>120</td>\n",
              "      <td>7.86</td>\n",
              "      <td>642.5</td>\n",
              "      <td>71</td>\n",
              "    </tr>\n",
              "    <tr>\n",
              "      <th>11</th>\n",
              "      <td>12</td>\n",
              "      <td>124</td>\n",
              "      <td>5.76</td>\n",
              "      <td>622.7</td>\n",
              "      <td>81</td>\n",
              "    </tr>\n",
              "  </tbody>\n",
              "</table>\n",
              "</div>"
            ],
            "text/plain": [
              "    month  days  avg_temp_mean  total_precip  wet_days\n",
              "0       1   124           5.46         466.0        66\n",
              "1       2   113           6.96         422.0        73\n",
              "2       3   124           8.62         606.2        73\n",
              "3       4   120          10.69         375.4        59\n",
              "4       5   124          14.46         207.5        34\n",
              "5       6   120          17.32         132.9        37\n",
              "6       7   124          20.10          48.2        11\n",
              "7       8   124          20.44         163.7        22\n",
              "8       9   120          17.14         235.5        35\n",
              "9      10   124          12.87         503.4        61\n",
              "10     11   120           7.86         642.5        71\n",
              "11     12   124           5.76         622.7        81"
            ]
          },
          "execution_count": 14,
          "metadata": {},
          "output_type": "execute_result"
        }
      ],
      "source": [
        "#Agrupamos por meses y calculamos las estadísticas requeridas\n",
        "sw_agg_by_month = df.groupby('month').agg(\n",
        "    days=('date', 'count'),\n",
        "    avg_temp_mean=('teamp_mean', 'mean'),\n",
        "    total_precip=('precipitation', 'sum'),\n",
        "    wet_days=('is_wet_day', 'sum')\n",
        ").reset_index()\n",
        "\n",
        "sw_agg_by_month['avg_temp_mean'] = sw_agg_by_month['avg_temp_mean'].round(2)\n",
        "sw_agg_by_month['total_precip'] = sw_agg_by_month['total_precip'].round(2)\n",
        "\n",
        "sw_agg_by_month.head(12)"
      ]
    },
    {
      "cell_type": "code",
      "execution_count": 15,
      "id": "d708e165",
      "metadata": {},
      "outputs": [
        {
          "data": {
            "application/vnd.microsoft.datawrangler.viewer.v0+json": {
              "columns": [
                {
                  "name": "index",
                  "rawType": "int64",
                  "type": "integer"
                },
                {
                  "name": "weather",
                  "rawType": "object",
                  "type": "string"
                },
                {
                  "name": "days",
                  "rawType": "int64",
                  "type": "integer"
                },
                {
                  "name": "avg_precip",
                  "rawType": "float64",
                  "type": "float"
                },
                {
                  "name": "avg_wind",
                  "rawType": "float64",
                  "type": "float"
                },
                {
                  "name": "avg_temp_mean",
                  "rawType": "float64",
                  "type": "float"
                }
              ],
              "ref": "59e90e4d-0ecd-4bd6-93ec-07dd4f138431",
              "rows": [
                [
                  "0",
                  "drizzle",
                  "53",
                  "0.0",
                  "2.37",
                  "11.52"
                ],
                [
                  "1",
                  "fog",
                  "101",
                  "0.0",
                  "2.48",
                  "12.37"
                ],
                [
                  "2",
                  "rain",
                  "641",
                  "6.56",
                  "3.67",
                  "10.52"
                ],
                [
                  "3",
                  "snow",
                  "26",
                  "8.55",
                  "4.41",
                  "2.86"
                ],
                [
                  "4",
                  "sun",
                  "640",
                  "0.0",
                  "2.96",
                  "14.6"
                ]
              ],
              "shape": {
                "columns": 5,
                "rows": 5
              }
            },
            "text/html": [
              "<div>\n",
              "<style scoped>\n",
              "    .dataframe tbody tr th:only-of-type {\n",
              "        vertical-align: middle;\n",
              "    }\n",
              "\n",
              "    .dataframe tbody tr th {\n",
              "        vertical-align: top;\n",
              "    }\n",
              "\n",
              "    .dataframe thead th {\n",
              "        text-align: right;\n",
              "    }\n",
              "</style>\n",
              "<table border=\"1\" class=\"dataframe\">\n",
              "  <thead>\n",
              "    <tr style=\"text-align: right;\">\n",
              "      <th></th>\n",
              "      <th>weather</th>\n",
              "      <th>days</th>\n",
              "      <th>avg_precip</th>\n",
              "      <th>avg_wind</th>\n",
              "      <th>avg_temp_mean</th>\n",
              "    </tr>\n",
              "  </thead>\n",
              "  <tbody>\n",
              "    <tr>\n",
              "      <th>0</th>\n",
              "      <td>drizzle</td>\n",
              "      <td>53</td>\n",
              "      <td>0.00</td>\n",
              "      <td>2.37</td>\n",
              "      <td>11.52</td>\n",
              "    </tr>\n",
              "    <tr>\n",
              "      <th>1</th>\n",
              "      <td>fog</td>\n",
              "      <td>101</td>\n",
              "      <td>0.00</td>\n",
              "      <td>2.48</td>\n",
              "      <td>12.37</td>\n",
              "    </tr>\n",
              "    <tr>\n",
              "      <th>2</th>\n",
              "      <td>rain</td>\n",
              "      <td>641</td>\n",
              "      <td>6.56</td>\n",
              "      <td>3.67</td>\n",
              "      <td>10.52</td>\n",
              "    </tr>\n",
              "    <tr>\n",
              "      <th>3</th>\n",
              "      <td>snow</td>\n",
              "      <td>26</td>\n",
              "      <td>8.55</td>\n",
              "      <td>4.41</td>\n",
              "      <td>2.86</td>\n",
              "    </tr>\n",
              "    <tr>\n",
              "      <th>4</th>\n",
              "      <td>sun</td>\n",
              "      <td>640</td>\n",
              "      <td>0.00</td>\n",
              "      <td>2.96</td>\n",
              "      <td>14.60</td>\n",
              "    </tr>\n",
              "  </tbody>\n",
              "</table>\n",
              "</div>"
            ],
            "text/plain": [
              "   weather  days  avg_precip  avg_wind  avg_temp_mean\n",
              "0  drizzle    53        0.00      2.37          11.52\n",
              "1      fog   101        0.00      2.48          12.37\n",
              "2     rain   641        6.56      3.67          10.52\n",
              "3     snow    26        8.55      4.41           2.86\n",
              "4      sun   640        0.00      2.96          14.60"
            ]
          },
          "execution_count": 15,
          "metadata": {},
          "output_type": "execute_result"
        }
      ],
      "source": [
        "#Agrupamos por clima y calculamos las estadísticas requeridas\n",
        "sw_agg_by_weather = df.groupby('weather').agg(\n",
        "    days=('date', 'count'),\n",
        "    avg_precip=('precipitation', 'mean'),\n",
        "    avg_wind=('wind', 'mean'),\n",
        "    avg_temp_mean=('teamp_mean', 'mean')\n",
        ").reset_index()\n",
        "\n",
        "sw_agg_by_weather['avg_precip'] = sw_agg_by_weather['avg_precip'].round(2)\n",
        "sw_agg_by_weather['avg_wind'] = sw_agg_by_weather['avg_wind'].round(2)\n",
        "sw_agg_by_weather['avg_temp_mean'] = sw_agg_by_weather['avg_temp_mean'].round(2)\n",
        "\n",
        "sw_agg_by_weather.head(10)"
      ]
    },
    {
      "cell_type": "code",
      "execution_count": 16,
      "id": "fe1cfb5b",
      "metadata": {},
      "outputs": [
        {
          "data": {
            "application/vnd.microsoft.datawrangler.viewer.v0+json": {
              "columns": [
                {
                  "name": "index",
                  "rawType": "int64",
                  "type": "integer"
                },
                {
                  "name": "season",
                  "rawType": "object",
                  "type": "string"
                },
                {
                  "name": "days",
                  "rawType": "int64",
                  "type": "integer"
                },
                {
                  "name": "avg_temp_mean",
                  "rawType": "float64",
                  "type": "float"
                },
                {
                  "name": "max_temp_max",
                  "rawType": "float64",
                  "type": "float"
                },
                {
                  "name": "min_temp_min",
                  "rawType": "float64",
                  "type": "float"
                },
                {
                  "name": "total_precip",
                  "rawType": "float64",
                  "type": "float"
                },
                {
                  "name": "wet_days",
                  "rawType": "int64",
                  "type": "integer"
                }
              ],
              "ref": "21b4ea71-7ea3-4bc5-ba44-7e396c672036",
              "rows": [
                [
                  "0",
                  "Fall",
                  "364",
                  "12.63",
                  "33.9",
                  "-4.9",
                  "1381.4",
                  "167"
                ],
                [
                  "1",
                  "Spring",
                  "368",
                  "11.26",
                  "30.6",
                  "-1.7",
                  "1189.1",
                  "166"
                ],
                [
                  "2",
                  "Summer",
                  "368",
                  "19.31",
                  "35.6",
                  "6.1",
                  "344.8",
                  "70"
                ],
                [
                  "3",
                  "Winter",
                  "361",
                  "6.03",
                  "18.9",
                  "-7.1",
                  "1510.7",
                  "220"
                ]
              ],
              "shape": {
                "columns": 7,
                "rows": 4
              }
            },
            "text/html": [
              "<div>\n",
              "<style scoped>\n",
              "    .dataframe tbody tr th:only-of-type {\n",
              "        vertical-align: middle;\n",
              "    }\n",
              "\n",
              "    .dataframe tbody tr th {\n",
              "        vertical-align: top;\n",
              "    }\n",
              "\n",
              "    .dataframe thead th {\n",
              "        text-align: right;\n",
              "    }\n",
              "</style>\n",
              "<table border=\"1\" class=\"dataframe\">\n",
              "  <thead>\n",
              "    <tr style=\"text-align: right;\">\n",
              "      <th></th>\n",
              "      <th>season</th>\n",
              "      <th>days</th>\n",
              "      <th>avg_temp_mean</th>\n",
              "      <th>max_temp_max</th>\n",
              "      <th>min_temp_min</th>\n",
              "      <th>total_precip</th>\n",
              "      <th>wet_days</th>\n",
              "    </tr>\n",
              "  </thead>\n",
              "  <tbody>\n",
              "    <tr>\n",
              "      <th>0</th>\n",
              "      <td>Fall</td>\n",
              "      <td>364</td>\n",
              "      <td>12.63</td>\n",
              "      <td>33.9</td>\n",
              "      <td>-4.9</td>\n",
              "      <td>1381.4</td>\n",
              "      <td>167</td>\n",
              "    </tr>\n",
              "    <tr>\n",
              "      <th>1</th>\n",
              "      <td>Spring</td>\n",
              "      <td>368</td>\n",
              "      <td>11.26</td>\n",
              "      <td>30.6</td>\n",
              "      <td>-1.7</td>\n",
              "      <td>1189.1</td>\n",
              "      <td>166</td>\n",
              "    </tr>\n",
              "    <tr>\n",
              "      <th>2</th>\n",
              "      <td>Summer</td>\n",
              "      <td>368</td>\n",
              "      <td>19.31</td>\n",
              "      <td>35.6</td>\n",
              "      <td>6.1</td>\n",
              "      <td>344.8</td>\n",
              "      <td>70</td>\n",
              "    </tr>\n",
              "    <tr>\n",
              "      <th>3</th>\n",
              "      <td>Winter</td>\n",
              "      <td>361</td>\n",
              "      <td>6.03</td>\n",
              "      <td>18.9</td>\n",
              "      <td>-7.1</td>\n",
              "      <td>1510.7</td>\n",
              "      <td>220</td>\n",
              "    </tr>\n",
              "  </tbody>\n",
              "</table>\n",
              "</div>"
            ],
            "text/plain": [
              "   season  days  avg_temp_mean  max_temp_max  min_temp_min  total_precip  \\\n",
              "0    Fall   364          12.63          33.9          -4.9        1381.4   \n",
              "1  Spring   368          11.26          30.6          -1.7        1189.1   \n",
              "2  Summer   368          19.31          35.6           6.1         344.8   \n",
              "3  Winter   361           6.03          18.9          -7.1        1510.7   \n",
              "\n",
              "   wet_days  \n",
              "0       167  \n",
              "1       166  \n",
              "2        70  \n",
              "3       220  "
            ]
          },
          "execution_count": 16,
          "metadata": {},
          "output_type": "execute_result"
        }
      ],
      "source": [
        "#Agrupamos por estación y calculamos las estadísticas requeridas\n",
        "sw_agg_by_season = df.groupby('season').agg(\n",
        "    days=('date', 'count'),\n",
        "    avg_temp_mean=('teamp_mean', 'mean'),\n",
        "    max_temp_max=('temp_max', 'max'),\n",
        "    min_temp_min=('temp_min', 'min'),\n",
        "    total_precip=('precipitation', 'sum'),\n",
        "    wet_days=('is_wet_day', 'sum')\n",
        ").reset_index()\n",
        "\n",
        "sw_agg_by_season['avg_temp_mean'] = sw_agg_by_season['avg_temp_mean'].round(2)\n",
        "sw_agg_by_season['total_precip'] = sw_agg_by_season['total_precip'].round(2)\n",
        "\n",
        "sw_agg_by_season.head(10)"
      ]
    },
    {
      "cell_type": "markdown",
      "id": "56d02848",
      "metadata": {},
      "source": [
        "---\n",
        "### 5) Persistencia en Postgress"
      ]
    },
    {
      "cell_type": "code",
      "execution_count": 17,
      "id": "c4969dfd",
      "metadata": {},
      "outputs": [
        {
          "data": {
            "text/plain": [
              "4"
            ]
          },
          "execution_count": 17,
          "metadata": {},
          "output_type": "execute_result"
        }
      ],
      "source": [
        "#Cargamos todos los datos procesados a la base de datos\n",
        "sw_agg_by_year.to_sql(\"seattle_weather_agg_by_year\", con=engine, if_exists=\"replace\", index=False)\n",
        "sw_agg_by_month.to_sql(\"seattle_weather_agg_by_month\", con=engine, if_exists=\"replace\", index=False)\n",
        "sw_agg_by_weather.to_sql(\"seattle_weather_agg_by_weather\", con=engine, if_exists=\"replace\", index=False)\n",
        "sw_agg_by_season.to_sql(\"seattle_weather_agg_by_season\", con=engine, if_exists=\"replace\", index=False)"
      ]
    },
    {
      "cell_type": "code",
      "execution_count": 18,
      "id": "8184f927",
      "metadata": {},
      "outputs": [
        {
          "data": {
            "application/vnd.microsoft.datawrangler.viewer.v0+json": {
              "columns": [
                {
                  "name": "index",
                  "rawType": "int64",
                  "type": "integer"
                },
                {
                  "name": "year",
                  "rawType": "int64",
                  "type": "integer"
                },
                {
                  "name": "days",
                  "rawType": "int64",
                  "type": "integer"
                },
                {
                  "name": "avg_temp_mean",
                  "rawType": "float64",
                  "type": "float"
                },
                {
                  "name": "max_temp_max",
                  "rawType": "float64",
                  "type": "float"
                },
                {
                  "name": "min_temp_min",
                  "rawType": "float64",
                  "type": "float"
                },
                {
                  "name": "total_precip",
                  "rawType": "float64",
                  "type": "float"
                },
                {
                  "name": "wet_days",
                  "rawType": "int64",
                  "type": "integer"
                }
              ],
              "ref": "cf9299d5-90d0-4176-82b2-8258634d635d",
              "rows": [
                [
                  "0",
                  "2012",
                  "366",
                  "11.28",
                  "34.4",
                  "-3.3",
                  "1226.0",
                  "177"
                ],
                [
                  "1",
                  "2013",
                  "365",
                  "12.11",
                  "33.9",
                  "-7.1",
                  "828.0",
                  "152"
                ],
                [
                  "2",
                  "2014",
                  "365",
                  "12.83",
                  "35.6",
                  "-6.0",
                  "1232.8",
                  "150"
                ],
                [
                  "3",
                  "2015",
                  "365",
                  "13.13",
                  "35.0",
                  "-3.8",
                  "1139.2",
                  "144"
                ]
              ],
              "shape": {
                "columns": 7,
                "rows": 4
              }
            },
            "text/html": [
              "<div>\n",
              "<style scoped>\n",
              "    .dataframe tbody tr th:only-of-type {\n",
              "        vertical-align: middle;\n",
              "    }\n",
              "\n",
              "    .dataframe tbody tr th {\n",
              "        vertical-align: top;\n",
              "    }\n",
              "\n",
              "    .dataframe thead th {\n",
              "        text-align: right;\n",
              "    }\n",
              "</style>\n",
              "<table border=\"1\" class=\"dataframe\">\n",
              "  <thead>\n",
              "    <tr style=\"text-align: right;\">\n",
              "      <th></th>\n",
              "      <th>year</th>\n",
              "      <th>days</th>\n",
              "      <th>avg_temp_mean</th>\n",
              "      <th>max_temp_max</th>\n",
              "      <th>min_temp_min</th>\n",
              "      <th>total_precip</th>\n",
              "      <th>wet_days</th>\n",
              "    </tr>\n",
              "  </thead>\n",
              "  <tbody>\n",
              "    <tr>\n",
              "      <th>0</th>\n",
              "      <td>2012</td>\n",
              "      <td>366</td>\n",
              "      <td>11.28</td>\n",
              "      <td>34.4</td>\n",
              "      <td>-3.3</td>\n",
              "      <td>1226.0</td>\n",
              "      <td>177</td>\n",
              "    </tr>\n",
              "    <tr>\n",
              "      <th>1</th>\n",
              "      <td>2013</td>\n",
              "      <td>365</td>\n",
              "      <td>12.11</td>\n",
              "      <td>33.9</td>\n",
              "      <td>-7.1</td>\n",
              "      <td>828.0</td>\n",
              "      <td>152</td>\n",
              "    </tr>\n",
              "    <tr>\n",
              "      <th>2</th>\n",
              "      <td>2014</td>\n",
              "      <td>365</td>\n",
              "      <td>12.83</td>\n",
              "      <td>35.6</td>\n",
              "      <td>-6.0</td>\n",
              "      <td>1232.8</td>\n",
              "      <td>150</td>\n",
              "    </tr>\n",
              "    <tr>\n",
              "      <th>3</th>\n",
              "      <td>2015</td>\n",
              "      <td>365</td>\n",
              "      <td>13.13</td>\n",
              "      <td>35.0</td>\n",
              "      <td>-3.8</td>\n",
              "      <td>1139.2</td>\n",
              "      <td>144</td>\n",
              "    </tr>\n",
              "  </tbody>\n",
              "</table>\n",
              "</div>"
            ],
            "text/plain": [
              "   year  days  avg_temp_mean  max_temp_max  min_temp_min  total_precip  \\\n",
              "0  2012   366          11.28          34.4          -3.3        1226.0   \n",
              "1  2013   365          12.11          33.9          -7.1         828.0   \n",
              "2  2014   365          12.83          35.6          -6.0        1232.8   \n",
              "3  2015   365          13.13          35.0          -3.8        1139.2   \n",
              "\n",
              "   wet_days  \n",
              "0       177  \n",
              "1       152  \n",
              "2       150  \n",
              "3       144  "
            ]
          },
          "execution_count": 18,
          "metadata": {},
          "output_type": "execute_result"
        }
      ],
      "source": [
        "#Comporbamos que todo está correcto\n",
        "pd.read_sql(\"SELECT * FROM seattle_weather_agg_by_year;\", engine).head(10)"
      ]
    },
    {
      "cell_type": "code",
      "execution_count": 19,
      "id": "00b3901a",
      "metadata": {},
      "outputs": [
        {
          "data": {
            "application/vnd.microsoft.datawrangler.viewer.v0+json": {
              "columns": [
                {
                  "name": "index",
                  "rawType": "int64",
                  "type": "integer"
                },
                {
                  "name": "weather",
                  "rawType": "object",
                  "type": "string"
                },
                {
                  "name": "days",
                  "rawType": "int64",
                  "type": "integer"
                },
                {
                  "name": "avg_precip",
                  "rawType": "float64",
                  "type": "float"
                },
                {
                  "name": "avg_wind",
                  "rawType": "float64",
                  "type": "float"
                },
                {
                  "name": "avg_temp_mean",
                  "rawType": "float64",
                  "type": "float"
                }
              ],
              "ref": "468f2962-939e-40fe-85cd-b97eaaec99ad",
              "rows": [
                [
                  "0",
                  "drizzle",
                  "53",
                  "0.0",
                  "2.37",
                  "11.52"
                ],
                [
                  "1",
                  "fog",
                  "101",
                  "0.0",
                  "2.48",
                  "12.37"
                ],
                [
                  "2",
                  "rain",
                  "641",
                  "6.56",
                  "3.67",
                  "10.52"
                ],
                [
                  "3",
                  "snow",
                  "26",
                  "8.55",
                  "4.41",
                  "2.86"
                ],
                [
                  "4",
                  "sun",
                  "640",
                  "0.0",
                  "2.96",
                  "14.6"
                ]
              ],
              "shape": {
                "columns": 5,
                "rows": 5
              }
            },
            "text/html": [
              "<div>\n",
              "<style scoped>\n",
              "    .dataframe tbody tr th:only-of-type {\n",
              "        vertical-align: middle;\n",
              "    }\n",
              "\n",
              "    .dataframe tbody tr th {\n",
              "        vertical-align: top;\n",
              "    }\n",
              "\n",
              "    .dataframe thead th {\n",
              "        text-align: right;\n",
              "    }\n",
              "</style>\n",
              "<table border=\"1\" class=\"dataframe\">\n",
              "  <thead>\n",
              "    <tr style=\"text-align: right;\">\n",
              "      <th></th>\n",
              "      <th>weather</th>\n",
              "      <th>days</th>\n",
              "      <th>avg_precip</th>\n",
              "      <th>avg_wind</th>\n",
              "      <th>avg_temp_mean</th>\n",
              "    </tr>\n",
              "  </thead>\n",
              "  <tbody>\n",
              "    <tr>\n",
              "      <th>0</th>\n",
              "      <td>drizzle</td>\n",
              "      <td>53</td>\n",
              "      <td>0.00</td>\n",
              "      <td>2.37</td>\n",
              "      <td>11.52</td>\n",
              "    </tr>\n",
              "    <tr>\n",
              "      <th>1</th>\n",
              "      <td>fog</td>\n",
              "      <td>101</td>\n",
              "      <td>0.00</td>\n",
              "      <td>2.48</td>\n",
              "      <td>12.37</td>\n",
              "    </tr>\n",
              "    <tr>\n",
              "      <th>2</th>\n",
              "      <td>rain</td>\n",
              "      <td>641</td>\n",
              "      <td>6.56</td>\n",
              "      <td>3.67</td>\n",
              "      <td>10.52</td>\n",
              "    </tr>\n",
              "    <tr>\n",
              "      <th>3</th>\n",
              "      <td>snow</td>\n",
              "      <td>26</td>\n",
              "      <td>8.55</td>\n",
              "      <td>4.41</td>\n",
              "      <td>2.86</td>\n",
              "    </tr>\n",
              "    <tr>\n",
              "      <th>4</th>\n",
              "      <td>sun</td>\n",
              "      <td>640</td>\n",
              "      <td>0.00</td>\n",
              "      <td>2.96</td>\n",
              "      <td>14.60</td>\n",
              "    </tr>\n",
              "  </tbody>\n",
              "</table>\n",
              "</div>"
            ],
            "text/plain": [
              "   weather  days  avg_precip  avg_wind  avg_temp_mean\n",
              "0  drizzle    53        0.00      2.37          11.52\n",
              "1      fog   101        0.00      2.48          12.37\n",
              "2     rain   641        6.56      3.67          10.52\n",
              "3     snow    26        8.55      4.41           2.86\n",
              "4      sun   640        0.00      2.96          14.60"
            ]
          },
          "execution_count": 19,
          "metadata": {},
          "output_type": "execute_result"
        }
      ],
      "source": [
        "pd.read_sql(\"SELECT * FROM seattle_weather_agg_by_weather;\", engine).head(10)"
      ]
    },
    {
      "cell_type": "code",
      "execution_count": 20,
      "id": "267e583a",
      "metadata": {},
      "outputs": [
        {
          "data": {
            "application/vnd.microsoft.datawrangler.viewer.v0+json": {
              "columns": [
                {
                  "name": "index",
                  "rawType": "int64",
                  "type": "integer"
                },
                {
                  "name": "month",
                  "rawType": "int64",
                  "type": "integer"
                },
                {
                  "name": "days",
                  "rawType": "int64",
                  "type": "integer"
                },
                {
                  "name": "avg_temp_mean",
                  "rawType": "float64",
                  "type": "float"
                },
                {
                  "name": "total_precip",
                  "rawType": "float64",
                  "type": "float"
                },
                {
                  "name": "wet_days",
                  "rawType": "int64",
                  "type": "integer"
                }
              ],
              "ref": "f548e297-cd90-480d-b4e8-01e3b87496c7",
              "rows": [
                [
                  "0",
                  "1",
                  "124",
                  "5.46",
                  "466.0",
                  "66"
                ],
                [
                  "1",
                  "2",
                  "113",
                  "6.96",
                  "422.0",
                  "73"
                ],
                [
                  "2",
                  "3",
                  "124",
                  "8.62",
                  "606.2",
                  "73"
                ],
                [
                  "3",
                  "4",
                  "120",
                  "10.69",
                  "375.4",
                  "59"
                ],
                [
                  "4",
                  "5",
                  "124",
                  "14.46",
                  "207.5",
                  "34"
                ],
                [
                  "5",
                  "6",
                  "120",
                  "17.32",
                  "132.9",
                  "37"
                ],
                [
                  "6",
                  "7",
                  "124",
                  "20.1",
                  "48.2",
                  "11"
                ],
                [
                  "7",
                  "8",
                  "124",
                  "20.44",
                  "163.7",
                  "22"
                ],
                [
                  "8",
                  "9",
                  "120",
                  "17.14",
                  "235.5",
                  "35"
                ],
                [
                  "9",
                  "10",
                  "124",
                  "12.87",
                  "503.4",
                  "61"
                ]
              ],
              "shape": {
                "columns": 5,
                "rows": 10
              }
            },
            "text/html": [
              "<div>\n",
              "<style scoped>\n",
              "    .dataframe tbody tr th:only-of-type {\n",
              "        vertical-align: middle;\n",
              "    }\n",
              "\n",
              "    .dataframe tbody tr th {\n",
              "        vertical-align: top;\n",
              "    }\n",
              "\n",
              "    .dataframe thead th {\n",
              "        text-align: right;\n",
              "    }\n",
              "</style>\n",
              "<table border=\"1\" class=\"dataframe\">\n",
              "  <thead>\n",
              "    <tr style=\"text-align: right;\">\n",
              "      <th></th>\n",
              "      <th>month</th>\n",
              "      <th>days</th>\n",
              "      <th>avg_temp_mean</th>\n",
              "      <th>total_precip</th>\n",
              "      <th>wet_days</th>\n",
              "    </tr>\n",
              "  </thead>\n",
              "  <tbody>\n",
              "    <tr>\n",
              "      <th>0</th>\n",
              "      <td>1</td>\n",
              "      <td>124</td>\n",
              "      <td>5.46</td>\n",
              "      <td>466.0</td>\n",
              "      <td>66</td>\n",
              "    </tr>\n",
              "    <tr>\n",
              "      <th>1</th>\n",
              "      <td>2</td>\n",
              "      <td>113</td>\n",
              "      <td>6.96</td>\n",
              "      <td>422.0</td>\n",
              "      <td>73</td>\n",
              "    </tr>\n",
              "    <tr>\n",
              "      <th>2</th>\n",
              "      <td>3</td>\n",
              "      <td>124</td>\n",
              "      <td>8.62</td>\n",
              "      <td>606.2</td>\n",
              "      <td>73</td>\n",
              "    </tr>\n",
              "    <tr>\n",
              "      <th>3</th>\n",
              "      <td>4</td>\n",
              "      <td>120</td>\n",
              "      <td>10.69</td>\n",
              "      <td>375.4</td>\n",
              "      <td>59</td>\n",
              "    </tr>\n",
              "    <tr>\n",
              "      <th>4</th>\n",
              "      <td>5</td>\n",
              "      <td>124</td>\n",
              "      <td>14.46</td>\n",
              "      <td>207.5</td>\n",
              "      <td>34</td>\n",
              "    </tr>\n",
              "    <tr>\n",
              "      <th>5</th>\n",
              "      <td>6</td>\n",
              "      <td>120</td>\n",
              "      <td>17.32</td>\n",
              "      <td>132.9</td>\n",
              "      <td>37</td>\n",
              "    </tr>\n",
              "    <tr>\n",
              "      <th>6</th>\n",
              "      <td>7</td>\n",
              "      <td>124</td>\n",
              "      <td>20.10</td>\n",
              "      <td>48.2</td>\n",
              "      <td>11</td>\n",
              "    </tr>\n",
              "    <tr>\n",
              "      <th>7</th>\n",
              "      <td>8</td>\n",
              "      <td>124</td>\n",
              "      <td>20.44</td>\n",
              "      <td>163.7</td>\n",
              "      <td>22</td>\n",
              "    </tr>\n",
              "    <tr>\n",
              "      <th>8</th>\n",
              "      <td>9</td>\n",
              "      <td>120</td>\n",
              "      <td>17.14</td>\n",
              "      <td>235.5</td>\n",
              "      <td>35</td>\n",
              "    </tr>\n",
              "    <tr>\n",
              "      <th>9</th>\n",
              "      <td>10</td>\n",
              "      <td>124</td>\n",
              "      <td>12.87</td>\n",
              "      <td>503.4</td>\n",
              "      <td>61</td>\n",
              "    </tr>\n",
              "  </tbody>\n",
              "</table>\n",
              "</div>"
            ],
            "text/plain": [
              "   month  days  avg_temp_mean  total_precip  wet_days\n",
              "0      1   124           5.46         466.0        66\n",
              "1      2   113           6.96         422.0        73\n",
              "2      3   124           8.62         606.2        73\n",
              "3      4   120          10.69         375.4        59\n",
              "4      5   124          14.46         207.5        34\n",
              "5      6   120          17.32         132.9        37\n",
              "6      7   124          20.10          48.2        11\n",
              "7      8   124          20.44         163.7        22\n",
              "8      9   120          17.14         235.5        35\n",
              "9     10   124          12.87         503.4        61"
            ]
          },
          "execution_count": 20,
          "metadata": {},
          "output_type": "execute_result"
        }
      ],
      "source": [
        "pd.read_sql(\"SELECT * FROM seattle_weather_agg_by_month;\", engine).head(10)"
      ]
    },
    {
      "cell_type": "code",
      "execution_count": 21,
      "id": "c6263c73",
      "metadata": {},
      "outputs": [
        {
          "data": {
            "application/vnd.microsoft.datawrangler.viewer.v0+json": {
              "columns": [
                {
                  "name": "index",
                  "rawType": "int64",
                  "type": "integer"
                },
                {
                  "name": "season",
                  "rawType": "object",
                  "type": "string"
                },
                {
                  "name": "days",
                  "rawType": "int64",
                  "type": "integer"
                },
                {
                  "name": "avg_temp_mean",
                  "rawType": "float64",
                  "type": "float"
                },
                {
                  "name": "max_temp_max",
                  "rawType": "float64",
                  "type": "float"
                },
                {
                  "name": "min_temp_min",
                  "rawType": "float64",
                  "type": "float"
                },
                {
                  "name": "total_precip",
                  "rawType": "float64",
                  "type": "float"
                },
                {
                  "name": "wet_days",
                  "rawType": "int64",
                  "type": "integer"
                }
              ],
              "ref": "7033815b-5f34-4316-b380-32cf43c0ebb3",
              "rows": [
                [
                  "0",
                  "Fall",
                  "364",
                  "12.63",
                  "33.9",
                  "-4.9",
                  "1381.4",
                  "167"
                ],
                [
                  "1",
                  "Spring",
                  "368",
                  "11.26",
                  "30.6",
                  "-1.7",
                  "1189.1",
                  "166"
                ],
                [
                  "2",
                  "Summer",
                  "368",
                  "19.31",
                  "35.6",
                  "6.1",
                  "344.8",
                  "70"
                ],
                [
                  "3",
                  "Winter",
                  "361",
                  "6.03",
                  "18.9",
                  "-7.1",
                  "1510.7",
                  "220"
                ]
              ],
              "shape": {
                "columns": 7,
                "rows": 4
              }
            },
            "text/html": [
              "<div>\n",
              "<style scoped>\n",
              "    .dataframe tbody tr th:only-of-type {\n",
              "        vertical-align: middle;\n",
              "    }\n",
              "\n",
              "    .dataframe tbody tr th {\n",
              "        vertical-align: top;\n",
              "    }\n",
              "\n",
              "    .dataframe thead th {\n",
              "        text-align: right;\n",
              "    }\n",
              "</style>\n",
              "<table border=\"1\" class=\"dataframe\">\n",
              "  <thead>\n",
              "    <tr style=\"text-align: right;\">\n",
              "      <th></th>\n",
              "      <th>season</th>\n",
              "      <th>days</th>\n",
              "      <th>avg_temp_mean</th>\n",
              "      <th>max_temp_max</th>\n",
              "      <th>min_temp_min</th>\n",
              "      <th>total_precip</th>\n",
              "      <th>wet_days</th>\n",
              "    </tr>\n",
              "  </thead>\n",
              "  <tbody>\n",
              "    <tr>\n",
              "      <th>0</th>\n",
              "      <td>Fall</td>\n",
              "      <td>364</td>\n",
              "      <td>12.63</td>\n",
              "      <td>33.9</td>\n",
              "      <td>-4.9</td>\n",
              "      <td>1381.4</td>\n",
              "      <td>167</td>\n",
              "    </tr>\n",
              "    <tr>\n",
              "      <th>1</th>\n",
              "      <td>Spring</td>\n",
              "      <td>368</td>\n",
              "      <td>11.26</td>\n",
              "      <td>30.6</td>\n",
              "      <td>-1.7</td>\n",
              "      <td>1189.1</td>\n",
              "      <td>166</td>\n",
              "    </tr>\n",
              "    <tr>\n",
              "      <th>2</th>\n",
              "      <td>Summer</td>\n",
              "      <td>368</td>\n",
              "      <td>19.31</td>\n",
              "      <td>35.6</td>\n",
              "      <td>6.1</td>\n",
              "      <td>344.8</td>\n",
              "      <td>70</td>\n",
              "    </tr>\n",
              "    <tr>\n",
              "      <th>3</th>\n",
              "      <td>Winter</td>\n",
              "      <td>361</td>\n",
              "      <td>6.03</td>\n",
              "      <td>18.9</td>\n",
              "      <td>-7.1</td>\n",
              "      <td>1510.7</td>\n",
              "      <td>220</td>\n",
              "    </tr>\n",
              "  </tbody>\n",
              "</table>\n",
              "</div>"
            ],
            "text/plain": [
              "   season  days  avg_temp_mean  max_temp_max  min_temp_min  total_precip  \\\n",
              "0    Fall   364          12.63          33.9          -4.9        1381.4   \n",
              "1  Spring   368          11.26          30.6          -1.7        1189.1   \n",
              "2  Summer   368          19.31          35.6           6.1         344.8   \n",
              "3  Winter   361           6.03          18.9          -7.1        1510.7   \n",
              "\n",
              "   wet_days  \n",
              "0       167  \n",
              "1       166  \n",
              "2        70  \n",
              "3       220  "
            ]
          },
          "execution_count": 21,
          "metadata": {},
          "output_type": "execute_result"
        }
      ],
      "source": [
        "pd.read_sql(\"SELECT * FROM seattle_weather_agg_by_season;\", engine).head(10)"
      ]
    },
    {
      "cell_type": "markdown",
      "id": "2c92578f",
      "metadata": {},
      "source": [
        "---\n",
        "### 6) Preguntas a responder"
      ]
    },
    {
      "cell_type": "markdown",
      "id": "c8668a76",
      "metadata": {},
      "source": [
        "1) ¿Cuántos días distintos hay en `seattle_weather_raw` y cuál es el **rango de fechas** cubierto?  "
      ]
    },
    {
      "cell_type": "code",
      "execution_count": 22,
      "id": "2556a082",
      "metadata": {},
      "outputs": [
        {
          "name": "stdout",
          "output_type": "stream",
          "text": [
            "Días distintos: 1461\n",
            "Rango de fechas: 2012-01-01 a 2015-12-31\n"
          ]
        }
      ],
      "source": [
        "raw = pd.read_sql(\"SELECT * FROM seattle_weather_raw;\", engine)\n",
        "\n",
        "num_days = raw['date'].nunique()\n",
        "date_min = raw['date'].min()\n",
        "date_max = raw['date'].max()\n",
        "\n",
        "print(f\"Días distintos: {num_days}\")\n",
        "print(f\"Rango de fechas: {date_min} a {date_max}\")"
      ]
    },
    {
      "cell_type": "markdown",
      "id": "a6ea4f3c",
      "metadata": {},
      "source": [
        "2) Según `sw_agg_by_month`, ¿**qué mes** concentra mayor **precipitación total**?  "
      ]
    },
    {
      "cell_type": "code",
      "execution_count": 23,
      "id": "13c49000",
      "metadata": {},
      "outputs": [
        {
          "name": "stdout",
          "output_type": "stream",
          "text": [
            "Mes con mayor precipitación total: 11.0 (642.5 mm)\n"
          ]
        }
      ],
      "source": [
        "max_precip_month = sw_agg_by_month.loc[sw_agg_by_month['total_precip'].idxmax()]\n",
        "\n",
        "print(f\"Mes con mayor precipitación total: {max_precip_month['month']} ({max_precip_month['total_precip']} mm)\")"
      ]
    },
    {
      "cell_type": "markdown",
      "id": "9bf73501",
      "metadata": {},
      "source": [
        "3) Según `sw_agg_by_year`, ¿en qué **año** hubo mayor **temperatura media** (`temp_mean`)?  "
      ]
    },
    {
      "cell_type": "code",
      "execution_count": 24,
      "id": "cfab1a7c",
      "metadata": {},
      "outputs": [
        {
          "name": "stdout",
          "output_type": "stream",
          "text": [
            "Año con mayor temperatura media: 2015 (13.13 °C)\n"
          ]
        }
      ],
      "source": [
        "max_temp_year = sw_agg_by_year.loc[sw_agg_by_year['avg_temp_mean'].idxmax()]\n",
        "\n",
        "print(f\"Año con mayor temperatura media: {int(max_temp_year['year'])} ({max_temp_year['avg_temp_mean']} °C)\")"
      ]
    },
    {
      "cell_type": "markdown",
      "id": "2d83608c",
      "metadata": {},
      "source": [
        "4) ¿Qué categoría de `weather` tiene **más días** y cuál es su **precipitación media**? (usa `sw_agg_by_weather`)"
      ]
    },
    {
      "cell_type": "code",
      "execution_count": 25,
      "id": "b1cc1691",
      "metadata": {},
      "outputs": [
        {
          "name": "stdout",
          "output_type": "stream",
          "text": [
            "Categoría de weather con más días: rain\n",
            "Precipitación media: 6.56 mm\n"
          ]
        }
      ],
      "source": [
        "max_days_weather = sw_agg_by_weather.loc[sw_agg_by_weather['days'].idxmax()]\n",
        "\n",
        "print(f\"Categoría de weather con más días: {max_days_weather['weather']}\")\n",
        "print(f\"Precipitación media: {max_days_weather['avg_precip']} mm\")"
      ]
    },
    {
      "cell_type": "markdown",
      "id": "b8b923ec",
      "metadata": {},
      "source": [
        "5) ¿En qué **estación** `season` aparecen más `wet_days` y cuántos son?"
      ]
    },
    {
      "cell_type": "code",
      "execution_count": 26,
      "id": "fc1f2efb",
      "metadata": {},
      "outputs": [
        {
          "name": "stdout",
          "output_type": "stream",
          "text": [
            "Estación con más wet_days: Winter (220 días)\n"
          ]
        }
      ],
      "source": [
        "max_wet_season = sw_agg_by_season.loc[sw_agg_by_season['wet_days'].idxmax()]\n",
        "\n",
        "print(f\"Estación con más wet_days: {max_wet_season['season']} ({max_wet_season['wet_days']} días)\")"
      ]
    }
  ],
  "metadata": {
    "kernelspec": {
      "display_name": "Practica_Seattle",
      "language": "python",
      "name": "python3"
    },
    "language_info": {
      "codemirror_mode": {
        "name": "ipython",
        "version": 3
      },
      "file_extension": ".py",
      "mimetype": "text/x-python",
      "name": "python",
      "nbconvert_exporter": "python",
      "pygments_lexer": "ipython3",
      "version": "3.11.13"
    }
  },
  "nbformat": 4,
  "nbformat_minor": 5
}
